{
 "cells": [
  {
   "cell_type": "code",
   "execution_count": null,
   "id": "9fd0c7df",
   "metadata": {},
   "outputs": [],
   "source": [
    "# import pandas as pd\n",
    "import numpy as np\n",
    "import matplotlib.pyplot as plt\n",
    "from sklearn.datasets import load_iris\n",
    "import tensorflow as tf\n",
    "from tensorflow.keras.models import Sequential\n",
    "from tensorflow.keras.layers import Dense\n",
    "tf.random.set_seed(2382)\n",
    "colormap = {0:'black', 1:'red', 2:'blue'}"
   ]
  },
  {
   "cell_type": "markdown",
   "metadata": {},
   "source": [
    "# 0. Load the data"
   ]
  },
  {
   "cell_type": "code",
   "execution_count": null,
   "id": "059a3478",
   "metadata": {},
   "outputs": [],
   "source": [
    "data_raw = load_iris(as_frame=True)\n",
    "species_names = data_raw['target_names']\n",
    "data = data_raw['frame']\n",
    "data = data.drop(columns=['sepal length (cm)','sepal width (cm)'])\n",
    "data = data.rename(columns={'petal length (cm)':'petal_length','petal width (cm)':'petal_width','target':'species'})\n",
    "\n",
    "X = data[['petal_length','petal_width']].to_numpy()\n",
    "y = data['species'].to_numpy().reshape(-1, 1)\n",
    "\n",
    "data['species'] = data['species'].map({0:'setosa',1:'versicolor',2:'virginica'})\n",
    "data"
   ]
  },
  {
   "cell_type": "code",
   "execution_count": null,
   "metadata": {},
   "outputs": [],
   "source": [
    "fig, ax = plt.subplots(figsize=(8,5))\n",
    "for yy in range(3):\n",
    "    ind = y==yy\n",
    "    ax.scatter(data.loc[ind,'petal_length'],data.loc[ind,'petal_width'],label=species_names[yy],c=colormap[yy])\n",
    "ax.legend(fontsize=14)\n",
    "ax.set_xlabel('petal length',fontsize=14)\n",
    "ax.set_ylabel('petal width',fontsize=14)\n",
    "ax.spines['right'].set_visible(False)\n",
    "ax.spines['top'].set_visible(False)\n",
    "\n",
    "xlim = ax.get_xlim()\n",
    "ylim = ax.get_ylim()"
   ]
  },
  {
   "cell_type": "markdown",
   "id": "7e7bb76f",
   "metadata": {},
   "source": [
    "# 1. Output encoding"
   ]
  },
  {
   "cell_type": "code",
   "execution_count": null,
   "metadata": {},
   "outputs": [],
   "source": [
    "y_ohe = tf.keras.utils.to_categorical(y)\n",
    "y_ohe"
   ]
  },
  {
   "cell_type": "markdown",
   "id": "92e22957",
   "metadata": {},
   "source": [
    "# 2. Neural network model"
   ]
  },
  {
   "cell_type": "code",
   "execution_count": null,
   "id": "17656fb3",
   "metadata": {},
   "outputs": [],
   "source": [
    "model = Sequential([\n",
    "    Dense(40, input_dim=2, activation='relu'),\n",
    "    Dense(3, activation=\"softmax\") ])\n",
    "\n",
    "model.compile(loss=\"categorical_crossentropy\", \n",
    "              metrics=[\"accuracy\"])"
   ]
  },
  {
   "cell_type": "markdown",
   "metadata": {},
   "source": [
    "# 3. Train the model"
   ]
  },
  {
   "cell_type": "code",
   "execution_count": null,
   "metadata": {},
   "outputs": [],
   "source": [
    "history = model.fit(X, y_ohe, \n",
    "                    epochs=500)"
   ]
  },
  {
   "cell_type": "markdown",
   "metadata": {},
   "source": [
    "### Evolution of the model during training"
   ]
  },
  {
   "cell_type": "code",
   "execution_count": null,
   "id": "4df244ed",
   "metadata": {},
   "outputs": [],
   "source": [
    "fig, ax = plt.subplots(figsize=(10,4))\n",
    "ax.plot(history.history['accuracy'], linewidth=2)\n",
    "ax.grid(linestyle='--')\n",
    "ax.set_xlabel('epochs',fontsize=14)\n",
    "ax.set_ylabel('accuracy',fontsize=14)\n",
    "ax.spines['top'].set_visible(False)\n",
    "ax.spines['right'].set_visible(False)"
   ]
  },
  {
   "cell_type": "markdown",
   "metadata": {},
   "source": [
    "### Plot decistion boundaries"
   ]
  },
  {
   "cell_type": "code",
   "execution_count": null,
   "metadata": {},
   "outputs": [],
   "source": [
    "d1_grid, d2_grid = np.meshgrid(np.arange(xlim[0], xlim[1], 0.02), np.arange(ylim[0], ylim[1], 0.02))\n",
    "X0 = d1_grid.ravel()\n",
    "X1 = d2_grid.ravel()\n",
    "\n",
    "d12_array = np.empty((len(X0),2))\n",
    "d12_array[:,0] = X0\n",
    "d12_array[:,1] = X1\n",
    "i=2\n",
    "\n",
    "y_array = model.predict(d12_array)\n",
    "y_grid = y_array.argmax(axis=1).reshape(d1_grid.shape)\n"
   ]
  },
  {
   "cell_type": "code",
   "execution_count": null,
   "metadata": {},
   "outputs": [],
   "source": [
    "\n",
    "fig, ax = plt.subplots()\n",
    "plt.contourf(d1_grid, d2_grid, y_grid,alpha=0.3,levels=3)\n",
    "for yy in range(3):\n",
    "    ind = y==yy\n",
    "    ax.scatter(data.loc[ind,'petal_length'],data.loc[ind,'petal_width'],label=species_names[yy],c=colormap[yy])\n",
    "ax.legend()\n",
    "ax.set_xlabel('petal length',fontsize=14)\n",
    "ax.set_ylabel('petal width',fontsize=14)\n",
    "ax.spines[:].set_visible(False)"
   ]
  },
  {
   "cell_type": "code",
   "execution_count": null,
   "metadata": {},
   "outputs": [],
   "source": []
  },
  {
   "cell_type": "code",
   "execution_count": null,
   "metadata": {},
   "outputs": [],
   "source": []
  }
 ],
 "metadata": {
  "kernelspec": {
   "display_name": "Python 3 (ipykernel)",
   "language": "python",
   "name": "python3"
  },
  "language_info": {
   "codemirror_mode": {
    "name": "ipython",
    "version": 3
   },
   "file_extension": ".py",
   "mimetype": "text/x-python",
   "name": "python",
   "nbconvert_exporter": "python",
   "pygments_lexer": "ipython3",
   "version": "3.10.12"
  }
 },
 "nbformat": 4,
 "nbformat_minor": 5
}
