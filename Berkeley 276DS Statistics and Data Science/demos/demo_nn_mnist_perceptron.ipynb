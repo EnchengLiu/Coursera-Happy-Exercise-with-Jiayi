{
 "cells": [
  {
   "cell_type": "code",
   "execution_count": null,
   "id": "8b3e236a",
   "metadata": {},
   "outputs": [],
   "source": [
    "import numpy as np\n",
    "from matplotlib import pyplot as plt\n",
    "import pandas as pd\n",
    "import tensorflow as tf\n",
    "from tensorflow.keras.datasets import mnist\n",
    "from tensorflow.keras.models import Sequential\n",
    "from tensorflow.keras.layers import Dense, Flatten\n",
    "tf.random.set_seed(2382)"
   ]
  },
  {
   "cell_type": "markdown",
   "id": "d5af641a",
   "metadata": {},
   "source": [
    "# 0. Load the data"
   ]
  },
  {
   "cell_type": "code",
   "execution_count": null,
   "id": "f4937590",
   "metadata": {},
   "outputs": [],
   "source": [
    "(Xtrain, ytrain),(Xtest, ytest) = mnist.load_data()"
   ]
  },
  {
   "cell_type": "code",
   "execution_count": null,
   "metadata": {},
   "outputs": [],
   "source": [
    "Xtrain.shape"
   ]
  },
  {
   "cell_type": "code",
   "execution_count": null,
   "id": "c3ea6108",
   "metadata": {},
   "outputs": [],
   "source": [
    "Xtrain[2917].shape"
   ]
  },
  {
   "cell_type": "code",
   "execution_count": null,
   "id": "305f6fa4",
   "metadata": {},
   "outputs": [],
   "source": [
    "plt.imshow(Xtrain[2917])"
   ]
  },
  {
   "cell_type": "markdown",
   "id": "a4cfd603",
   "metadata": {},
   "source": [
    "# 1. Image normalization, output encoding"
   ]
  },
  {
   "cell_type": "code",
   "execution_count": null,
   "id": "d3207671",
   "metadata": {},
   "outputs": [],
   "source": [
    "Xtrain = Xtrain / 255.0\n",
    "Xtest = Xtest / 255.0\n",
    "\n",
    "ytrain_ohe = tf.keras.utils.to_categorical(ytrain)\n",
    "ytest_ohe = tf.keras.utils.to_categorical(ytest)"
   ]
  },
  {
   "cell_type": "markdown",
   "id": "b236e1cc",
   "metadata": {},
   "source": [
    "# 2. Neural network model"
   ]
  },
  {
   "cell_type": "code",
   "execution_count": null,
   "metadata": {},
   "outputs": [],
   "source": [
    "model = Sequential([\n",
    "    Flatten(input_shape=(28, 28)),\n",
    "    Dense(units=44, activation='relu'),\n",
    "    Dense(units=10, activation='softmax') ])\n",
    "\n",
    "model.summary()"
   ]
  },
  {
   "cell_type": "code",
   "execution_count": null,
   "metadata": {},
   "outputs": [],
   "source": [
    "model.compile(loss='categorical_crossentropy',\n",
    "              optimizer='adam',\n",
    "              metrics=['accuracy'])"
   ]
  },
  {
   "cell_type": "markdown",
   "metadata": {},
   "source": [
    "# 3. Train the model"
   ]
  },
  {
   "cell_type": "code",
   "execution_count": null,
   "id": "398bcd65",
   "metadata": {},
   "outputs": [],
   "source": [
    "history = model.fit(Xtrain, ytrain_ohe, \n",
    "                    batch_size=128,\n",
    "                    epochs=10,\n",
    "                    validation_split=0.2)"
   ]
  },
  {
   "cell_type": "markdown",
   "metadata": {},
   "source": [
    "### Evolution of the model during training"
   ]
  },
  {
   "cell_type": "code",
   "execution_count": null,
   "metadata": {},
   "outputs": [],
   "source": [
    "fig, ax = plt.subplots(figsize=(10,4))\n",
    "ax.plot(history.history['accuracy'],'.-',linewidth=2,markersize=14)\n",
    "ax.grid(linestyle=':')\n",
    "ax.set_xlabel('epochs',fontsize=14)\n",
    "ax.set_ylabel('accuracy',fontsize=14)\n",
    "ax.spines['top'].set_visible(False)\n",
    "ax.spines['right'].set_visible(False)"
   ]
  },
  {
   "cell_type": "markdown",
   "metadata": {},
   "source": [
    "# 4. Evaluate on the test data"
   ]
  },
  {
   "cell_type": "code",
   "execution_count": null,
   "id": "3d6bf6e9",
   "metadata": {},
   "outputs": [],
   "source": [
    "model.evaluate(x=Xtest, y=ytest_ohe)"
   ]
  }
 ],
 "metadata": {
  "kernelspec": {
   "display_name": "Python 3 (ipykernel)",
   "language": "python",
   "name": "python3"
  },
  "language_info": {
   "codemirror_mode": {
    "name": "ipython",
    "version": 3
   },
   "file_extension": ".py",
   "mimetype": "text/x-python",
   "name": "python",
   "nbconvert_exporter": "python",
   "pygments_lexer": "ipython3",
   "version": "3.10.12"
  }
 },
 "nbformat": 4,
 "nbformat_minor": 5
}
