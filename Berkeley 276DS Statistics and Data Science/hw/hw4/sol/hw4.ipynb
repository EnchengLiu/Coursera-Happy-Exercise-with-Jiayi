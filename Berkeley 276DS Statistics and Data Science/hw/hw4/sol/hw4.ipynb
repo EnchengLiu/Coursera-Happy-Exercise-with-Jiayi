{
 "cells": [
  {
   "cell_type": "code",
   "execution_count": 1,
   "id": "304c53c3",
   "metadata": {
    "deletable": false,
    "editable": false
   },
   "outputs": [],
   "source": [
    "# Initialize Otter\n",
    "import otter\n",
    "grader = otter.Notebook(\"hw4.ipynb\")"
   ]
  },
  {
   "cell_type": "markdown",
   "id": "9956aa3d",
   "metadata": {},
   "source": [
    "---\n",
    "\n",
    "<h1><center>SDSE Homework 4 <br><br> Text Classification with Naive Bayes </center></h1>\n",
    "\n",
    "---"
   ]
  },
  {
   "cell_type": "code",
   "execution_count": 2,
   "id": "b25f04db",
   "metadata": {
    "execution": {
     "iopub.execute_input": "2023-10-23T20:32:05.795799Z",
     "iopub.status.busy": "2023-10-23T20:32:05.795629Z",
     "iopub.status.idle": "2023-10-23T20:32:06.138657Z",
     "shell.execute_reply": "2023-10-23T20:32:06.137812Z"
    }
   },
   "outputs": [],
   "source": [
    "import numpy as np\n",
    "import matplotlib.pyplot as plt\n",
    "import pickle"
   ]
  },
  {
   "cell_type": "markdown",
   "id": "16ba9378",
   "metadata": {},
   "source": [
    "In this homework we will apply the technique of Naive Bayes classification to the problem of categorizing text-based documents. The dataset is a selection of posts from scikit-learn's ['20 newsgroups' dataset](https://scikit-learn.org/stable/datasets/real_world.html#newsgroups-dataset), which contains some 18000 newsgroup posts in 20 different categories, such as politics, autos, electronics, atheism, and hockey. For simplicity, we will focus on just two of the categories: computer graphics and motorcycles."
   ]
  },
  {
   "cell_type": "markdown",
   "id": "8b5684ac",
   "metadata": {},
   "source": [
    "# 0. Load the data\n",
    "\n",
    "The cell below loads the data from a pickle file. The file contains training data `(Xtrain, ytrain)` and validation data `(Xval,yval)`. Each entry in `Xtrain` and `Xval` is a post. The corresponding output in `ytrain` or `yval` is its category.\n",
    "`categories` is the set of all categories.\n",
    "`vocabulary` is the set of feature words.\n",
    "\n",
    "Take a few minutes to familiarize yourself with these variables by inspecting\n",
    "+ the shape of all of the variables\n",
    "+ one of the entries in `Xtrain` and `ytrain` \n",
    "+ the size and contents of `categories` and `vocabulary`"
   ]
  },
  {
   "cell_type": "code",
   "execution_count": 3,
   "id": "2cb6ed72",
   "metadata": {
    "execution": {
     "iopub.execute_input": "2023-10-23T20:32:06.142325Z",
     "iopub.status.busy": "2023-10-23T20:32:06.142094Z",
     "iopub.status.idle": "2023-10-23T20:32:06.208817Z",
     "shell.execute_reply": "2023-10-23T20:32:06.208260Z"
    }
   },
   "outputs": [],
   "source": [
    "with open('hw4_text.pickle','rb') as file:\n",
    "    Xtrain, ytrain, Xval, yval, categories, vocabulary = pickle.load(file)"
   ]
  },
  {
   "cell_type": "markdown",
   "id": "b1754b8c",
   "metadata": {},
   "source": [
    "# 1. Define constants\n",
    "\n",
    "Define the following variables in terms of quantities loaded from the pickle file. \n",
    "+ `N` ... number of documents in the training corpus\n",
    "+ `K` ... number of document categories\n",
    "+ `D` ... number of words in the vocabulary"
   ]
  },
  {
   "cell_type": "code",
   "execution_count": 6,
   "id": "4b61bf55",
   "metadata": {
    "execution": {
     "iopub.execute_input": "2023-10-23T20:32:06.211430Z",
     "iopub.status.busy": "2023-10-23T20:32:06.211256Z",
     "iopub.status.idle": "2023-10-23T20:32:06.216777Z",
     "shell.execute_reply": "2023-10-23T20:32:06.216374Z"
    },
    "tags": []
   },
   "outputs": [],
   "source": [
    "N = Xtrain.shape[0]\n",
    "K = len(categories)\n",
    "D = len(vocabulary)"
   ]
  },
  {
   "cell_type": "code",
   "execution_count": 7,
   "id": "4fc6e9c7",
   "metadata": {
    "deletable": false,
    "editable": false
   },
   "outputs": [
    {
     "data": {
      "text/html": [
       "<p><strong><pre style='display: inline;'>q1</pre></strong> passed! 🌈</p>"
      ],
      "text/plain": [
       "q1 results: All test cases passed!"
      ]
     },
     "execution_count": 7,
     "metadata": {},
     "output_type": "execute_result"
    }
   ],
   "source": [
    "grader.check(\"q1\")"
   ]
  },
  {
   "cell_type": "markdown",
   "id": "329cb06e",
   "metadata": {},
   "source": [
    "# 2. Find the number of training documents for each category\n",
    "\n",
    "Create a dictionary called `docs_per_category` that stores the number of documents in the training data under each category."
   ]
  },
  {
   "cell_type": "code",
   "execution_count": 9,
   "id": "13d65fc3",
   "metadata": {
    "execution": {
     "iopub.execute_input": "2023-10-23T20:32:06.234015Z",
     "iopub.status.busy": "2023-10-23T20:32:06.233864Z",
     "iopub.status.idle": "2023-10-23T20:32:06.237676Z",
     "shell.execute_reply": "2023-10-23T20:32:06.237294Z"
    },
    "tags": []
   },
   "outputs": [],
   "source": [
    "docs_per_category = dict.fromkeys(categories,0)\n",
    "for category in categories:\n",
    "    docs_per_category[category] = sum(ytrain==category)"
   ]
  },
  {
   "cell_type": "code",
   "execution_count": 10,
   "id": "458db6ec",
   "metadata": {
    "deletable": false,
    "editable": false
   },
   "outputs": [
    {
     "data": {
      "text/html": [
       "<p><strong><pre style='display: inline;'>q2</pre></strong> passed! 🌟</p>"
      ],
      "text/plain": [
       "q2 results: All test cases passed!"
      ]
     },
     "execution_count": 10,
     "metadata": {},
     "output_type": "execute_result"
    }
   ],
   "source": [
    "grader.check(\"q2\")"
   ]
  },
  {
   "cell_type": "markdown",
   "id": "79bd5f56",
   "metadata": {},
   "source": [
    "# 3. Bag-of-words representation\n",
    "\n",
    "Our Naive Bayes model will operate on a bag-of-words representation of each document. A bag-of-words representation is simply a set with all of the individual words of the document that are also in the vocabulary. The first task is to write the `to_bow` method, which converts a document into its bag-of-words. \n",
    "\n",
    "The arguments for this method are the document as a string and the vocabulary. It should return a set (`bow`) with the unique words that appear in both the document and the vocabulary. The comments in the method provide steps to follow.\n",
    "\n",
    "**Hints**\n",
    "+ The `set` constructor\n",
    "+ The `add` method on sets. "
   ]
  },
  {
   "cell_type": "code",
   "execution_count": 11,
   "id": "1cfe42de",
   "metadata": {
    "execution": {
     "iopub.execute_input": "2023-10-23T20:32:06.250156Z",
     "iopub.status.busy": "2023-10-23T20:32:06.249987Z",
     "iopub.status.idle": "2023-10-23T20:32:06.255455Z",
     "shell.execute_reply": "2023-10-23T20:32:06.254971Z"
    },
    "tags": []
   },
   "outputs": [],
   "source": [
    "def to_bow(doc,vocabulary):\n",
    "    bow = set()\n",
    "    \n",
    "    # Split `doc` at spaces using the the string's `split` method. Obtain a list of strings.\n",
    "    words_list = doc.split(' ')\n",
    "\n",
    "    # Keep only unique words from the list, by casting it as a set.\n",
    "    word_set = set(words_list)\n",
    "\n",
    "    # From that set, keep only the ones that are present in the vocabulary.\n",
    "    for word in word_set:\n",
    "        if word in vocabulary:\n",
    "            bow.add(word)\n",
    "\n",
    "    return bow"
   ]
  },
  {
   "cell_type": "code",
   "execution_count": 12,
   "id": "f8a9508d",
   "metadata": {
    "execution": {
     "iopub.execute_input": "2023-10-23T20:32:06.257413Z",
     "iopub.status.busy": "2023-10-23T20:32:06.257248Z",
     "iopub.status.idle": "2023-10-23T20:32:06.271512Z",
     "shell.execute_reply": "2023-10-23T20:32:06.270973Z"
    },
    "tags": []
   },
   "outputs": [],
   "source": [
    "# Run `to_bow` on every document in `Xtrain`.\n",
    "Xtrain_bow = np.array([to_bow(doc,vocabulary) for doc in Xtrain])\n",
    "bag_sizes = np.array([len(Xtrain_bow[i]) for i in range(len(Xtrain_bow))])"
   ]
  },
  {
   "cell_type": "code",
   "execution_count": 13,
   "id": "c5d44c0a",
   "metadata": {
    "deletable": false,
    "editable": false
   },
   "outputs": [
    {
     "data": {
      "text/html": [
       "<p><strong><pre style='display: inline;'>q3</pre></strong> passed! 🍀</p>"
      ],
      "text/plain": [
       "q3 results: All test cases passed!"
      ]
     },
     "execution_count": 13,
     "metadata": {},
     "output_type": "execute_result"
    }
   ],
   "source": [
    "grader.check(\"q3\")"
   ]
  },
  {
   "cell_type": "markdown",
   "id": "3ed46f57",
   "metadata": {},
   "source": [
    "# 4. Compute the document count for each word in each category\n",
    "To estimate the parameters of the Naive Bayes model, we will need to know, for each category and each word, the number of documents of the category that contain the word. Implement the `find_doc_counts_per_word_category` following the steps provided in the code. This function accepts training data (`Xtrain_bow` and ` ytrain`), as well as the categories and vocabulary. It produces `doc_counters`, which is a dictionary indexed by category. For each category, `doc_counters[category]` is a dictionary indexed by words in the vocabulary. For each `word` in the vocabulary, `doc_counters[category][word]` is the number of documents of that category that contain that word."
   ]
  },
  {
   "cell_type": "code",
   "execution_count": 14,
   "id": "6cc0bb92",
   "metadata": {
    "execution": {
     "iopub.execute_input": "2023-10-23T20:32:06.294130Z",
     "iopub.status.busy": "2023-10-23T20:32:06.293957Z",
     "iopub.status.idle": "2023-10-23T20:32:06.298836Z",
     "shell.execute_reply": "2023-10-23T20:32:06.298445Z"
    },
    "tags": []
   },
   "outputs": [],
   "source": [
    "def find_doc_counts_per_word_category(categories,vocabulary,ytrain,Xtrain_bow):\n",
    "\n",
    "    # Initialize doc_counters\n",
    "    doc_counters = dict.fromkeys(categories)\n",
    "    for category in categories:\n",
    "        doc_counters[category]  = dict.fromkeys(vocabulary,0)\n",
    "\n",
    "    # Loop through categories.\n",
    "    for category in categories:\n",
    "\n",
    "        # Filter Xtrain_bow and keep only the documents of this category\n",
    "        docs_in_category = Xtrain_bow[ytrain==category]\n",
    "\n",
    "        # For each document in the category, increment the doc_counter entry for all vocabulary words found in the document.\n",
    "        for doc in docs_in_category:\n",
    "            for word in vocabulary:\n",
    "                if word in doc:\n",
    "                    doc_counters[category][word] += 1\n",
    "\n",
    "    return doc_counters"
   ]
  },
  {
   "cell_type": "code",
   "execution_count": 15,
   "id": "28578430",
   "metadata": {
    "execution": {
     "iopub.execute_input": "2023-10-23T20:32:06.300778Z",
     "iopub.status.busy": "2023-10-23T20:32:06.300610Z",
     "iopub.status.idle": "2023-10-23T20:32:06.305061Z",
     "shell.execute_reply": "2023-10-23T20:32:06.304575Z"
    },
    "tags": []
   },
   "outputs": [],
   "source": [
    "# Run `find_doc_counts_per_word_category`\n",
    "doccount_per_cat_and_word = find_doc_counts_per_word_category(categories,vocabulary,ytrain,Xtrain_bow)\n",
    "testwords = ['according','between','could','explain','harley','miles','source','wondering']"
   ]
  },
  {
   "cell_type": "code",
   "execution_count": 16,
   "id": "030d6d0c",
   "metadata": {
    "deletable": false,
    "editable": false
   },
   "outputs": [
    {
     "data": {
      "text/html": [
       "<p><strong><pre style='display: inline;'>q4</pre></strong> passed! ✨</p>"
      ],
      "text/plain": [
       "q4 results: All test cases passed!"
      ]
     },
     "execution_count": 16,
     "metadata": {},
     "output_type": "execute_result"
    }
   ],
   "source": [
    "grader.check(\"q4\")"
   ]
  },
  {
   "cell_type": "markdown",
   "id": "b715de1d",
   "metadata": {},
   "source": [
    "# 5. Find word frequencies per category\n",
    "\n",
    "Write the `compute_freq` method. This method takes `doccount_per_cat_and_word`, `ytrain` and the Laplace smoothing factor `alpha` as inputs and computes word and category frequencies.\n",
    "\n",
    "+ Category frequencies `catfreq[category]`: The category frequency for category $c$ is the proportion of the documents that are of class $c$.\n",
    "\n",
    "$$\\hat{p}_c = \\frac{N_c}{N} $$\n",
    "\n",
    "where $N_c$ is the number of documents in category $c$, and $N$ is the total number of documents. \n",
    "\n",
    "+ Word frequencies `wordfreq[category][word]`: The Laplace-smoothed word frequency for a word $d$ and category $k$.\n",
    "\n",
    "$$\\hat{p}_{d,c} = \\frac{N_{d,c}+\\alpha}{N_c + \\alpha K} $$\n",
    "\n",
    "where $N_{d,c}$ is the number of documents of category $c$ that contain word $d$, and $\\alpha$ is the Laplace smoothing factor. "
   ]
  },
  {
   "cell_type": "code",
   "execution_count": 17,
   "id": "2f1bf307",
   "metadata": {
    "execution": {
     "iopub.execute_input": "2023-10-23T20:32:06.318703Z",
     "iopub.status.busy": "2023-10-23T20:32:06.318484Z",
     "iopub.status.idle": "2023-10-23T20:32:06.324886Z",
     "shell.execute_reply": "2023-10-23T20:32:06.324485Z"
    },
    "tags": []
   },
   "outputs": [],
   "source": [
    "def compute_freq(doccount_per_cat_and_word,ytrain,categories,vocabulary,alpha):\n",
    "\n",
    "    K = len(categories)  # number of categories\n",
    "    D = len(vocabulary)  # number of vocabulary words\n",
    "    N = len(ytrain)      # number of documents\n",
    "\n",
    "    # Compute the number of documents in each category. Store it in the dictionary `ndocs`.\n",
    "    ndocs = dict.fromkeys(categories)\n",
    "    for category in categories:\n",
    "        ndocs[category] = sum(ytrain==category)\n",
    "\n",
    "    # Compute the category frequenies. For each category, catfreq[category] equals\n",
    "    # the number of documents of that category (ndocs) divided by the total number of documents.\n",
    "    catfreq = dict()\n",
    "    for category, n in ndocs.items():\n",
    "        catfreq[category] = n/N\n",
    "\n",
    "    # Initialize wordfreq\n",
    "    wordfreq = dict.fromkeys(categories)\n",
    "    for category in categories:\n",
    "        wordfreq[category] = dict.fromkeys(vocabulary)\n",
    "\n",
    "    # Compute wordfreq\n",
    "    # For each category ...\n",
    "    for category in categories:\n",
    "\n",
    "        # the denominator is the number of documents in that category + alpha*K\n",
    "        den = sum(ytrain==category) + alpha*K\n",
    "\n",
    "        # iterate through items in `doccount_per_cat_and_word` to compute\n",
    "        # the word frequency for every category and word.\n",
    "        for word, doccount in doccount_per_cat_and_word[category].items():\n",
    "            wordfreq[category][word] = (doccount+alpha)/den\n",
    "\n",
    "    return wordfreq, catfreq"
   ]
  },
  {
   "cell_type": "code",
   "execution_count": 18,
   "id": "5c84f8e7",
   "metadata": {
    "execution": {
     "iopub.execute_input": "2023-10-23T20:32:06.326820Z",
     "iopub.status.busy": "2023-10-23T20:32:06.326633Z",
     "iopub.status.idle": "2023-10-23T20:32:06.330062Z",
     "shell.execute_reply": "2023-10-23T20:32:06.329562Z"
    },
    "tags": []
   },
   "outputs": [],
   "source": [
    "# Run `compute_word_log_freq` with $\\alpha=0.01$.\n",
    "wordfreq, catfreq = compute_freq(doccount_per_cat_and_word,ytrain,categories,vocabulary,0.01)\n",
    "testwords = ['according','between','could','explain','harley','miles','source','wondering']"
   ]
  },
  {
   "cell_type": "code",
   "execution_count": 19,
   "id": "cb82b13d",
   "metadata": {
    "deletable": false,
    "editable": false
   },
   "outputs": [
    {
     "data": {
      "text/html": [
       "<p><strong><pre style='display: inline;'>q5</pre></strong> passed! 🙌</p>"
      ],
      "text/plain": [
       "q5 results: All test cases passed!"
      ]
     },
     "execution_count": 19,
     "metadata": {},
     "output_type": "execute_result"
    }
   ],
   "source": [
    "grader.check(\"q5\")"
   ]
  },
  {
   "cell_type": "markdown",
   "id": "7403dee5",
   "metadata": {},
   "source": [
    "# 6. Write the Naive Bayes prediction function.\n",
    "\n",
    "Use your Naive Bayes model to predict the category of a given test document `doc`. \n",
    "\n",
    "Recall that Naive Bayes selects the category as follows:\n",
    "\n",
    "$$\\hat{y} = \\underset{c}{\\text{argmax}} \\hspace{2mm} \\log \\hat{p}_c +   \\sum_{d:x^d=1}  \\log \\hat{p}_{d,c} +\\sum_{d:x^d=0}  \\log (1-\\hat{p}_{d,c})$$\n",
    "\n",
    "The arguments of the `predict` method are:\n",
    "+ `doc`: a single document as a string.\n",
    "+ `wordfreq`, `catfreq`: the ratios computed in the previous step (with $\\alpha=0.01$)\n",
    "+ `vocabulary`: the vocabulary.\n",
    "\n",
    "The steps are:\n",
    "1. Find the BOW representation of `doc`.\n",
    "\n",
    "2. Loop through categories, for each one compute its score using the above formula.\n",
    "\n",
    "3. Return the category with the highest score."
   ]
  },
  {
   "cell_type": "code",
   "execution_count": 20,
   "id": "1140048c",
   "metadata": {
    "execution": {
     "iopub.execute_input": "2023-10-23T20:32:06.349716Z",
     "iopub.status.busy": "2023-10-23T20:32:06.349419Z",
     "iopub.status.idle": "2023-10-23T20:32:06.354477Z",
     "shell.execute_reply": "2023-10-23T20:32:06.354076Z"
    },
    "tags": []
   },
   "outputs": [],
   "source": [
    "def predict(doc, wordfreq, catfreq, vocabulary):\n",
    "\n",
    "    # 1. Find the BOW representation of doc.\n",
    "    doc_bow = to_bow(doc,vocabulary)\n",
    "\n",
    "    # 2. Loop through categories, for each one compute its score, and save it in score_cat.\n",
    "    score_cat = dict.fromkeys(categories,0)\n",
    "    for category in categories:\n",
    "        score = np.log(catfreq[category])\n",
    "        for word in vocabulary:\n",
    "            if word in doc_bow:\n",
    "                score += np.log(wordfreq[category][word])\n",
    "            else:\n",
    "                score += np.log(1-wordfreq[category][word])\n",
    "\n",
    "        score_cat[category] = score\n",
    "\n",
    "    # 3. Find the category with the highest score.\n",
    "    maxcat = max(score_cat, key=score_cat.get)\n",
    "\n",
    "    return maxcat"
   ]
  },
  {
   "cell_type": "code",
   "execution_count": 21,
   "id": "e2456c5b",
   "metadata": {
    "execution": {
     "iopub.execute_input": "2023-10-23T20:32:06.356340Z",
     "iopub.status.busy": "2023-10-23T20:32:06.356171Z",
     "iopub.status.idle": "2023-10-23T20:32:06.950159Z",
     "shell.execute_reply": "2023-10-23T20:32:06.949565Z"
    },
    "tags": []
   },
   "outputs": [],
   "source": [
    "allpred = [predict(Xt, wordfreq, catfreq, vocabulary) for Xt in Xval]"
   ]
  },
  {
   "cell_type": "code",
   "execution_count": 22,
   "id": "3399a46b",
   "metadata": {
    "deletable": false,
    "editable": false
   },
   "outputs": [
    {
     "data": {
      "text/html": [
       "<p><strong><pre style='display: inline;'>q6</pre></strong> passed! 🌈</p>"
      ],
      "text/plain": [
       "q6 results: All test cases passed!"
      ]
     },
     "execution_count": 22,
     "metadata": {},
     "output_type": "execute_result"
    }
   ],
   "source": [
    "grader.check(\"q6\")"
   ]
  },
  {
   "cell_type": "markdown",
   "id": "1b90c925",
   "metadata": {},
   "source": [
    "# 7. Compute the accuracy of the model"
   ]
  },
  {
   "cell_type": "markdown",
   "id": "b2da453e",
   "metadata": {},
   "source": [
    "The function `compute_accuracy` takes a dataset (`X`,`y`), computes predictions using the `predict` function, and computes the accuracy of these predictions with respect to `y`. The accuracy of the model is defined as the number of correct predictions, divided by the total number of predictions."
   ]
  },
  {
   "cell_type": "code",
   "execution_count": 23,
   "id": "77f97ac8",
   "metadata": {
    "execution": {
     "iopub.execute_input": "2023-10-23T20:32:06.958986Z",
     "iopub.status.busy": "2023-10-23T20:32:06.958803Z",
     "iopub.status.idle": "2023-10-23T20:32:06.963171Z",
     "shell.execute_reply": "2023-10-23T20:32:06.962745Z"
    },
    "tags": []
   },
   "outputs": [],
   "source": [
    "def compute_accuracy(X, y, wordfreq, catfreq, vocabulary):\n",
    "\n",
    "    # count the number of correct predictions\n",
    "    correct = 0\n",
    "    for i in range(len(X)):\n",
    "        yhat = predict(X[i], wordfreq, catfreq, vocabulary)\n",
    "        correct += yhat==y[i]\n",
    "\n",
    "    # accuracy is the ratio of correct predictions to total predictions.\n",
    "    accuracy = correct/len(X)\n",
    "\n",
    "    return accuracy"
   ]
  },
  {
   "cell_type": "code",
   "execution_count": 24,
   "id": "c10d0bb0",
   "metadata": {
    "deletable": false,
    "editable": false
   },
   "outputs": [
    {
     "data": {
      "text/html": [
       "<p><strong><pre style='display: inline;'>q7</pre></strong> passed! 🙌</p>"
      ],
      "text/plain": [
       "q7 results: All test cases passed!"
      ]
     },
     "execution_count": 24,
     "metadata": {},
     "output_type": "execute_result"
    }
   ],
   "source": [
    "grader.check(\"q7\")"
   ]
  },
  {
   "cell_type": "markdown",
   "id": "0fc529ff",
   "metadata": {},
   "source": [
    "# 8. Optimize the Laplace smoothing factor."
   ]
  },
  {
   "cell_type": "markdown",
   "id": "e36021e6",
   "metadata": {},
   "source": [
    "## 8.1. Train the model and compute its accuracy for logarithmically spaced values of $\\alpha$ ranging from $10^{-3}$ to $10^1$\n",
    "\n",
    "Here 'training the model' means computing the probability estimates with `compute_freq` with the training data. Do this for the given range of $\\alpha$'s. Compute and store the accuracy of each of these models using the validation data. \n",
    "\n",
    "**Hint**: Python's `enumerate` method can be used to produce both indices `i` and values `alpha` when iterating through `alphas`."
   ]
  },
  {
   "cell_type": "code",
   "execution_count": 25,
   "id": "b61ed710",
   "metadata": {
    "execution": {
     "iopub.execute_input": "2023-10-23T20:32:07.034961Z",
     "iopub.status.busy": "2023-10-23T20:32:07.034780Z",
     "iopub.status.idle": "2023-10-23T20:32:18.882987Z",
     "shell.execute_reply": "2023-10-23T20:32:18.882442Z"
    },
    "tags": []
   },
   "outputs": [
    {
     "name": "stdout",
     "output_type": "stream",
     "text": [
      "0.001\n",
      "0.001623776739188721\n",
      "0.0026366508987303583\n",
      "0.004281332398719396\n",
      "0.0069519279617756054\n",
      "0.011288378916846888\n",
      "0.018329807108324356\n",
      "0.029763514416313176\n",
      "0.04832930238571752\n",
      "0.07847599703514611\n",
      "0.12742749857031335\n",
      "0.20691380811147903\n",
      "0.3359818286283781\n",
      "0.5455594781168515\n",
      "0.8858667904100823\n",
      "1.438449888287663\n",
      "2.3357214690901213\n",
      "3.792690190732246\n",
      "6.158482110660261\n",
      "10.0\n"
     ]
    }
   ],
   "source": [
    "alphas = np.logspace(-3,1,20)\n",
    "acc = np.empty(len(alphas))\n",
    "for i, alpha in enumerate(alphas):\n",
    "    print(alpha)\n",
    "    wordfreq, catfreq = compute_freq(doccount_per_cat_and_word,ytrain,categories,vocabulary,alpha)\n",
    "    acc[i] = compute_accuracy(Xval, yval, wordfreq, catfreq, vocabulary)"
   ]
  },
  {
   "cell_type": "code",
   "execution_count": 26,
   "id": "1b95a2e8",
   "metadata": {
    "deletable": false,
    "editable": false
   },
   "outputs": [
    {
     "data": {
      "text/html": [
       "<p><strong><pre style='display: inline;'>q8p1</pre></strong> passed! 💯</p>"
      ],
      "text/plain": [
       "q8p1 results: All test cases passed!"
      ]
     },
     "execution_count": 26,
     "metadata": {},
     "output_type": "execute_result"
    }
   ],
   "source": [
    "grader.check(\"q8p1\")"
   ]
  },
  {
   "cell_type": "markdown",
   "id": "8027223b",
   "metadata": {},
   "source": [
    "## 8.2. Plot the accuracies as a function of $\\alpha$ using `plt.semilogx`\n",
    "\n",
    "Your plot should look like this:\n",
    "\n",
    "<img src=\"f1.png\" />"
   ]
  },
  {
   "cell_type": "code",
   "execution_count": 27,
   "id": "7f42f0b1",
   "metadata": {
    "execution": {
     "iopub.execute_input": "2023-10-23T20:32:18.891564Z",
     "iopub.status.busy": "2023-10-23T20:32:18.891404Z",
     "iopub.status.idle": "2023-10-23T20:32:19.280509Z",
     "shell.execute_reply": "2023-10-23T20:32:19.279976Z"
    },
    "tags": []
   },
   "outputs": [
    {
     "data": {
      "text/plain": [
       "[<matplotlib.lines.Line2D at 0x7fbe45a94250>]"
      ]
     },
     "execution_count": 27,
     "metadata": {},
     "output_type": "execute_result"
    },
    {
     "data": {
      "image/png": "[encoded data removed]",
      "text/plain": [
       "<Figure size 640x480 with 1 Axes>"
      ]
     },
     "metadata": {},
     "output_type": "display_data"
    }
   ],
   "source": [
    "plt.figure()\n",
    "plt.semilogx(alphas,acc)"
   ]
  },
  {
   "cell_type": "markdown",
   "id": "f6c58313",
   "metadata": {},
   "source": [
    "## 8.3. Find the optimal $\\alpha$ and its corresponding validation accuracy\n",
    "\n",
    "**Hint**: [np.argmax](https://numpy.org/doc/stable/reference/generated/numpy.argmax.html)"
   ]
  },
  {
   "cell_type": "code",
   "execution_count": 28,
   "id": "8e7f6c2d",
   "metadata": {
    "execution": {
     "iopub.execute_input": "2023-10-23T20:32:19.282937Z",
     "iopub.status.busy": "2023-10-23T20:32:19.282758Z",
     "iopub.status.idle": "2023-10-23T20:32:19.286669Z",
     "shell.execute_reply": "2023-10-23T20:32:19.286262Z"
    },
    "tags": []
   },
   "outputs": [],
   "source": [
    "bestind = np.argmax(acc)\n",
    "best_acc = acc[bestind]\n",
    "best_alpha = alphas[bestind]"
   ]
  },
  {
   "cell_type": "code",
   "execution_count": 29,
   "id": "3fac84cd",
   "metadata": {
    "deletable": false,
    "editable": false
   },
   "outputs": [
    {
     "data": {
      "text/html": [
       "<p><strong><pre style='display: inline;'>q8p3</pre></strong> passed! 🙌</p>"
      ],
      "text/plain": [
       "q8p3 results: All test cases passed!"
      ]
     },
     "execution_count": 29,
     "metadata": {},
     "output_type": "execute_result"
    }
   ],
   "source": [
    "grader.check(\"q8p3\")"
   ]
  },
  {
   "cell_type": "markdown",
   "id": "8ce80f0d",
   "metadata": {
    "deletable": false,
    "editable": false
   },
   "source": [
    "## Submission\n",
    "\n",
    "Make sure you have run all cells in your notebook in order before running the cell below, so that all images/graphs appear in the output. The cell below will generate a zip file for you to submit. **Please save before exporting!**"
   ]
  },
  {
   "cell_type": "code",
   "execution_count": 30,
   "id": "82150458",
   "metadata": {
    "deletable": false,
    "editable": false
   },
   "outputs": [
    {
     "data": {
      "text/html": [
       "\n",
       "            <p>Your submission has been exported. Click <a href=\"hw4_2023_10_23T13_37_42_258958.zip\" download=\"hw4_2023_10_23T13_37_42_258958.zip\" target=\"_blank\">here</a>\n",
       "            to download the zip file.</p>\n",
       "            "
      ],
      "text/plain": [
       "<IPython.core.display.HTML object>"
      ]
     },
     "metadata": {},
     "output_type": "display_data"
    }
   ],
   "source": [
    "# Save your notebook first, then run this cell to export your submission.\n",
    "grader.export(pdf=False)"
   ]
  },
  {
   "cell_type": "markdown",
   "id": "f8fa84a6",
   "metadata": {},
   "source": [
    " "
   ]
  }
 ],
 "metadata": {
  "interpreter": {
   "hash": "3b8b5ce4b1bd0cdb09a48c826d4154f25cb98d27fcdd75ace86cf123225b5557"
  },
  "kernelspec": {
   "display_name": "Python 3 (ipykernel)",
   "language": "python",
   "name": "python3"
  },
  "language_info": {
   "codemirror_mode": {
    "name": "ipython",
    "version": 3
   },
   "file_extension": ".py",
   "mimetype": "text/x-python",
   "name": "python",
   "nbconvert_exporter": "python",
   "pygments_lexer": "ipython3",
   "version": "3.10.12"
  },
  "otter": {
   "OK_FORMAT": true,
   "tests": {
    "q1": {
     "name": "q1",
     "points": null,
     "suites": [
      {
       "cases": [
        {
         "code": ">>> N==60\nTrue",
         "hidden": false,
         "locked": false,
         "points": 1
        },
        {
         "code": ">>> K==2\nTrue",
         "hidden": false,
         "locked": false,
         "points": 1
        },
        {
         "code": ">>> D==548\nTrue",
         "hidden": false,
         "locked": false,
         "points": 1
        }
       ],
       "scored": true,
       "setup": "",
       "teardown": "",
       "type": "doctest"
      }
     ]
    },
    "q2": {
     "name": "q2",
     "points": null,
     "suites": [
      {
       "cases": [
        {
         "code": ">>> docs_per_category['rec.motorcycles']==35\nTrue",
         "hidden": false,
         "locked": false,
         "points": 2
        },
        {
         "code": ">>> docs_per_category['comp.graphics']==25\nTrue",
         "hidden": false,
         "locked": false,
         "points": 2
        }
       ],
       "scored": true,
       "setup": "",
       "teardown": "",
       "type": "doctest"
      }
     ]
    },
    "q3": {
     "name": "q3",
     "points": null,
     "suites": [
      {
       "cases": [
        {
         "code": ">>> Xtrain_bow[23]=={'a',\n...                  'and',\n...                  'answer',\n...                  'bad',\n...                  'but',\n...                  'find',\n...                  'for',\n...                  'here',\n...                  'i',\n...                  'if',\n...                  'in',\n...                  'is',\n...                  'it',\n...                  'maybe',\n...                  'my',\n...                  'not',\n...                  'of',\n...                  'posting',\n...                  'sorry',\n...                  'the',\n...                  'thing',\n...                  'this',\n...                  'try',\n...                  'use',\n...                  'will',\n...                  'work',\n...                  'your'}\nTrue",
         "hidden": false,
         "locked": false
        },
        {
         "code": ">>> Xtrain_bow[34]=={'a',\n...                  'about',\n...                  'an',\n...                  'and',\n...                  'are',\n...                  'be',\n...                  'by',\n...                  'can',\n...                  'do',\n...                  'down',\n...                  'exhaust',\n...                  'for',\n...                  'gas',\n...                  'guess',\n...                  'have',\n...                  'i',\n...                  'in',\n...                  'is',\n...                  'like',\n...                  'line',\n...                  'may',\n...                  'not',\n...                  'on',\n...                  'only',\n...                  'out',\n...                  'really',\n...                  'seems',\n...                  'some',\n...                  'that',\n...                  'the',\n...                  'think',\n...                  'to',\n...                  'understand',\n...                  'we',\n...                  'will',\n...                  'would'}\nTrue",
         "hidden": false,
         "locked": false,
         "points": 3
        },
        {
         "code": ">>> np.all(bag_sizes == np.array([38, 40, 41, 40, 38, 32, 25, 38, 33, 45, 34, 36, 42, 30, 48, 36, 38,\n...                               34, 56, 31, 35, 35, 29, 27, 41, 44, 29, 41, 43, 38, 40, 45, 28, 35,\n...                               36, 17, 38, 47, 34, 45, 32, 48, 48, 40, 48, 40, 53, 34, 32, 39, 31,\n...                               39, 45, 57, 40, 26, 37, 36, 38, 33]))\nTrue",
         "hidden": false,
         "locked": false,
         "points": 3
        }
       ],
       "scored": true,
       "setup": "",
       "teardown": "",
       "type": "doctest"
      }
     ]
    },
    "q4": {
     "name": "q4",
     "points": null,
     "suites": [
      {
       "cases": [
        {
         "code": ">>> [doccount_per_cat_and_word['comp.graphics'][word] for word in testwords]==[1, 2, 3, 1, 0, 0, 1, 1]\nTrue",
         "hidden": false,
         "locked": false,
         "points": 3
        },
        {
         "code": ">>> [doccount_per_cat_and_word['rec.motorcycles'][word] for word in testwords]==[2, 1, 3, 0, 3, 0, 0, 0]\nTrue",
         "hidden": false,
         "locked": false,
         "points": 3
        }
       ],
       "scored": true,
       "setup": "",
       "teardown": "",
       "type": "doctest"
      }
     ]
    },
    "q5": {
     "name": "q5",
     "points": null,
     "suites": [
      {
       "cases": [
        {
         "code": ">>> np.isclose(catfreq['comp.graphics'], 0.4166666666666667, atol=1e-2) \nTrue",
         "hidden": false,
         "locked": false,
         "points": 2
        },
        {
         "code": ">>> np.all(np.isclose([wordfreq['rec.motorcycles'][word] for word in testwords] ,\n...        [0.05739577384351798,0.028840662478583665,0.0859508852084523,0.00028555111364934324,0.0859508852084523,0.00028555111364934324,0.00028555111364934324,0.00028555111364934324]   , atol=1e-2))\nTrue",
         "hidden": false,
         "locked": false,
         "points": 3
        },
        {
         "code": ">>> np.all(np.isclose([wordfreq['comp.graphics'][word] for word in testwords],\n...                   [0.04036770583533174,0.08033573141486809,0.12030375699440447,0.04036770583533174,0.0003996802557953637,0.0003996802557953637,0.04036770583533174,0.04036770583533174], atol=1e-2))\nTrue",
         "hidden": false,
         "locked": false,
         "points": 0
        }
       ],
       "scored": true,
       "setup": "",
       "teardown": "",
       "type": "doctest"
      }
     ]
    },
    "q6": {
     "name": "q6",
     "points": null,
     "suites": [
      {
       "cases": [
        {
         "code": ">>> \n>>> allpred[20:50:2]==['rec.motorcycles',\n...  'rec.motorcycles',\n...  'rec.motorcycles',\n...  'rec.motorcycles',\n...  'rec.motorcycles',\n...  'comp.graphics',\n...  'comp.graphics',\n...  'rec.motorcycles',\n...  'comp.graphics',\n...  'rec.motorcycles',\n...  'rec.motorcycles',\n...  'comp.graphics',\n...  'rec.motorcycles',\n...  'comp.graphics',\n...  'rec.motorcycles']\nTrue",
         "hidden": false,
         "locked": false,
         "points": 4
        }
       ],
       "scored": true,
       "setup": "",
       "teardown": "",
       "type": "doctest"
      }
     ]
    },
    "q7": {
     "name": "q7",
     "points": null,
     "suites": [
      {
       "cases": [
        {
         "code": ">>> np.isclose(compute_accuracy(Xtrain, ytrain, wordfreq, catfreq, vocabulary),1.0,atol=1e-3)\nTrue",
         "hidden": false,
         "locked": false,
         "points": 2
        }
       ],
       "scored": true,
       "setup": "",
       "teardown": "",
       "type": "doctest"
      }
     ]
    },
    "q8p1": {
     "name": "q8p1",
     "points": null,
     "suites": [
      {
       "cases": [
        {
         "code": ">>> np.all(np.isclose(acc,[0.84912281, 0.84912281, 0.85087719, 0.85263158, 0.85438596,\n...        0.85438596, 0.85789474, 0.85789474, 0.85789474, 0.86140351,\n...        0.86666667, 0.87017544, 0.87368421, 0.85614035, 0.80701754,\n...        0.71052632, 0.63157895, 0.61754386, 0.60877193, 0.60175439],atol=1e-3))\nTrue",
         "hidden": false,
         "locked": false,
         "points": 3
        }
       ],
       "scored": true,
       "setup": "",
       "teardown": "",
       "type": "doctest"
      }
     ]
    },
    "q8p3": {
     "name": "q8p3",
     "points": null,
     "suites": [
      {
       "cases": [
        {
         "code": ">>> np.isclose(best_acc,0.8736842105263158,atol=1e-2)\nTrue",
         "hidden": false,
         "locked": false,
         "points": 2
        },
        {
         "code": ">>> np.isclose(best_alpha,0.3359818286283781,atol=1e-2)\nTrue",
         "hidden": false,
         "locked": false,
         "points": 2
        }
       ],
       "scored": true,
       "setup": "",
       "teardown": "",
       "type": "doctest"
      }
     ]
    }
   }
  }
 },
 "nbformat": 4,
 "nbformat_minor": 5
}
