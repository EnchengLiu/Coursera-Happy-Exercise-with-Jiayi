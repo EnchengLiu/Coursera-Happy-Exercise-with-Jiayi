{
 "cells": [
  {
   "cell_type": "code",
   "execution_count": 1,
   "metadata": {
    "deletable": false,
    "editable": false
   },
   "outputs": [],
   "source": [
    "# Initialize Otter\n",
    "import otter\n",
    "grader = otter.Notebook(\"hw3.ipynb\")"
   ]
  },
  {
   "cell_type": "markdown",
   "metadata": {},
   "source": [
    "---\n",
    "\n",
    "<h1><center>SDSE Homework 3 <br><br> Simple linear regression </center></h1>\n",
    "\n",
    "---"
   ]
  },
  {
   "cell_type": "code",
   "execution_count": 2,
   "metadata": {
    "execution": {
     "iopub.execute_input": "2023-10-20T19:52:57.504225Z",
     "iopub.status.busy": "2023-10-20T19:52:57.504091Z",
     "iopub.status.idle": "2023-10-20T19:52:58.028085Z",
     "shell.execute_reply": "2023-10-20T19:52:58.027631Z"
    }
   },
   "outputs": [],
   "source": [
    "import numpy as np\n",
    "import scipy.stats as stats\n",
    "import matplotlib.pyplot as plt\n",
    "import pickle"
   ]
  },
  {
   "cell_type": "markdown",
   "metadata": {},
   "source": [
    "# 0. Load the data\n",
    "\n",
    "In this homework we will implement simple linear regression and apply it to four different datasets. \n",
    "\n",
    "All of the formulas can be found in the lecture and reader. \n",
    "\n",
    "The four datasets are contained in `hw3data.pickle`. Each dataset is a tuple with entries `x` and `y`:  `DA = (x,y)`."
   ]
  },
  {
   "cell_type": "code",
   "execution_count": 3,
   "metadata": {
    "execution": {
     "iopub.execute_input": "2023-10-20T19:52:58.029997Z",
     "iopub.status.busy": "2023-10-20T19:52:58.029794Z",
     "iopub.status.idle": "2023-10-20T19:52:58.031999Z",
     "shell.execute_reply": "2023-10-20T19:52:58.031713Z"
    }
   },
   "outputs": [],
   "source": [
    "with open('hw3data.pickle','rb') as f:\n",
    "    DA, DB, DC, DD = pickle.load(f)"
   ]
  },
  {
   "cell_type": "markdown",
   "metadata": {},
   "source": [
    "# 1. Scatter plots\n",
    "\n",
    "Display each of the four datasets using matplotlib [scatter](https://matplotlib.org/stable/api/_as_gen/matplotlib.pyplot.scatter.html) plots. Your plot should look similar to the one below, with two rows and two columns of plots.  \n",
    "\n",
    "<img src=\"f1.png\" />"
   ]
  },
  {
   "cell_type": "code",
   "execution_count": 4,
   "metadata": {
    "execution": {
     "iopub.execute_input": "2023-10-20T19:52:58.033425Z",
     "iopub.status.busy": "2023-10-20T19:52:58.033286Z",
     "iopub.status.idle": "2023-10-20T19:52:58.317336Z",
     "shell.execute_reply": "2023-10-20T19:52:58.316695Z"
    },
    "tags": []
   },
   "outputs": [
    {
     "ename": "ValueError",
     "evalue": "Number of rows must be a positive integer, not Ellipsis",
     "output_type": "error",
     "traceback": [
      "\u001b[0;31m---------------------------------------------------------------------------\u001b[0m",
      "\u001b[0;31mValueError\u001b[0m                                Traceback (most recent call last)",
      "\u001b[1;32m/media/gomes/StorageEXT1/Dropbox/gabriel/work/teaching/mine/SDSE/hw/hw3/dist/student/hw3.ipynb Cell 7\u001b[0m line \u001b[0;36m1\n\u001b[0;32m----> <a href='vscode-notebook-cell:/media/gomes/StorageEXT1/Dropbox/gabriel/work/teaching/mine/SDSE/hw/hw3/dist/student/hw3.ipynb#W6sZmlsZQ%3D%3D?line=0'>1</a>\u001b[0m fig, ax \u001b[39m=\u001b[39m plt\u001b[39m.\u001b[39;49msubplots(nrows\u001b[39m=\u001b[39;49m\u001b[39m.\u001b[39;49m\u001b[39m.\u001b[39;49m\u001b[39m.\u001b[39;49m,ncols\u001b[39m=\u001b[39;49m\u001b[39m.\u001b[39;49m\u001b[39m.\u001b[39;49m\u001b[39m.\u001b[39;49m)  \u001b[39m# TODO\u001b[39;00m\n\u001b[1;32m      <a href='vscode-notebook-cell:/media/gomes/StorageEXT1/Dropbox/gabriel/work/teaching/mine/SDSE/hw/hw3/dist/student/hw3.ipynb#W6sZmlsZQ%3D%3D?line=1'>2</a>\u001b[0m ax[\u001b[39m.\u001b[39m\u001b[39m.\u001b[39m\u001b[39m.\u001b[39m,\u001b[39m.\u001b[39m\u001b[39m.\u001b[39m\u001b[39m.\u001b[39m]\u001b[39m.\u001b[39mscatter(\u001b[39m.\u001b[39m\u001b[39m.\u001b[39m\u001b[39m.\u001b[39m,\u001b[39m.\u001b[39m\u001b[39m.\u001b[39m\u001b[39m.\u001b[39m,marker\u001b[39m=\u001b[39m\u001b[39m'\u001b[39m\u001b[39m.\u001b[39m\u001b[39m'\u001b[39m)\n\u001b[1;32m      <a href='vscode-notebook-cell:/media/gomes/StorageEXT1/Dropbox/gabriel/work/teaching/mine/SDSE/hw/hw3/dist/student/hw3.ipynb#W6sZmlsZQ%3D%3D?line=2'>3</a>\u001b[0m \u001b[39m.\u001b[39m\u001b[39m.\u001b[39m\u001b[39m.\u001b[39m\n",
      "File \u001b[0;32m~/venvs/sdseenv/lib/python3.10/site-packages/matplotlib/pyplot.py:1502\u001b[0m, in \u001b[0;36msubplots\u001b[0;34m(nrows, ncols, sharex, sharey, squeeze, width_ratios, height_ratios, subplot_kw, gridspec_kw, **fig_kw)\u001b[0m\n\u001b[1;32m   1358\u001b[0m \u001b[39m\u001b[39m\u001b[39m\"\"\"\u001b[39;00m\n\u001b[1;32m   1359\u001b[0m \u001b[39mCreate a figure and a set of subplots.\u001b[39;00m\n\u001b[1;32m   1360\u001b[0m \n\u001b[0;32m   (...)\u001b[0m\n\u001b[1;32m   1499\u001b[0m \n\u001b[1;32m   1500\u001b[0m \u001b[39m\"\"\"\u001b[39;00m\n\u001b[1;32m   1501\u001b[0m fig \u001b[39m=\u001b[39m figure(\u001b[39m*\u001b[39m\u001b[39m*\u001b[39mfig_kw)\n\u001b[0;32m-> 1502\u001b[0m axs \u001b[39m=\u001b[39m fig\u001b[39m.\u001b[39;49msubplots(nrows\u001b[39m=\u001b[39;49mnrows, ncols\u001b[39m=\u001b[39;49mncols, sharex\u001b[39m=\u001b[39;49msharex, sharey\u001b[39m=\u001b[39;49msharey,\n\u001b[1;32m   1503\u001b[0m                    squeeze\u001b[39m=\u001b[39;49msqueeze, subplot_kw\u001b[39m=\u001b[39;49msubplot_kw,\n\u001b[1;32m   1504\u001b[0m                    gridspec_kw\u001b[39m=\u001b[39;49mgridspec_kw, height_ratios\u001b[39m=\u001b[39;49mheight_ratios,\n\u001b[1;32m   1505\u001b[0m                    width_ratios\u001b[39m=\u001b[39;49mwidth_ratios)\n\u001b[1;32m   1506\u001b[0m \u001b[39mreturn\u001b[39;00m fig, axs\n",
      "File \u001b[0;32m~/venvs/sdseenv/lib/python3.10/site-packages/matplotlib/figure.py:905\u001b[0m, in \u001b[0;36mFigureBase.subplots\u001b[0;34m(self, nrows, ncols, sharex, sharey, squeeze, width_ratios, height_ratios, subplot_kw, gridspec_kw)\u001b[0m\n\u001b[1;32m    901\u001b[0m         \u001b[39mraise\u001b[39;00m \u001b[39mValueError\u001b[39;00m(\u001b[39m\"\u001b[39m\u001b[39m'\u001b[39m\u001b[39mwidth_ratios\u001b[39m\u001b[39m'\u001b[39m\u001b[39m must not be defined both as \u001b[39m\u001b[39m\"\u001b[39m\n\u001b[1;32m    902\u001b[0m                          \u001b[39m\"\u001b[39m\u001b[39mparameter and as key in \u001b[39m\u001b[39m'\u001b[39m\u001b[39mgridspec_kw\u001b[39m\u001b[39m'\u001b[39m\u001b[39m\"\u001b[39m)\n\u001b[1;32m    903\u001b[0m     gridspec_kw[\u001b[39m'\u001b[39m\u001b[39mwidth_ratios\u001b[39m\u001b[39m'\u001b[39m] \u001b[39m=\u001b[39m width_ratios\n\u001b[0;32m--> 905\u001b[0m gs \u001b[39m=\u001b[39m \u001b[39mself\u001b[39;49m\u001b[39m.\u001b[39;49madd_gridspec(nrows, ncols, figure\u001b[39m=\u001b[39;49m\u001b[39mself\u001b[39;49m, \u001b[39m*\u001b[39;49m\u001b[39m*\u001b[39;49mgridspec_kw)\n\u001b[1;32m    906\u001b[0m axs \u001b[39m=\u001b[39m gs\u001b[39m.\u001b[39msubplots(sharex\u001b[39m=\u001b[39msharex, sharey\u001b[39m=\u001b[39msharey, squeeze\u001b[39m=\u001b[39msqueeze,\n\u001b[1;32m    907\u001b[0m                   subplot_kw\u001b[39m=\u001b[39msubplot_kw)\n\u001b[1;32m    908\u001b[0m \u001b[39mreturn\u001b[39;00m axs\n",
      "File \u001b[0;32m~/venvs/sdseenv/lib/python3.10/site-packages/matplotlib/figure.py:1527\u001b[0m, in \u001b[0;36mFigureBase.add_gridspec\u001b[0;34m(self, nrows, ncols, **kwargs)\u001b[0m\n\u001b[1;32m   1488\u001b[0m \u001b[39m\u001b[39m\u001b[39m\"\"\"\u001b[39;00m\n\u001b[1;32m   1489\u001b[0m \u001b[39mReturn a `.GridSpec` that has this figure as a parent.  This allows\u001b[39;00m\n\u001b[1;32m   1490\u001b[0m \u001b[39mcomplex layout of Axes in the figure.\u001b[39;00m\n\u001b[0;32m   (...)\u001b[0m\n\u001b[1;32m   1523\u001b[0m \n\u001b[1;32m   1524\u001b[0m \u001b[39m\"\"\"\u001b[39;00m\n\u001b[1;32m   1526\u001b[0m _ \u001b[39m=\u001b[39m kwargs\u001b[39m.\u001b[39mpop(\u001b[39m'\u001b[39m\u001b[39mfigure\u001b[39m\u001b[39m'\u001b[39m, \u001b[39mNone\u001b[39;00m)  \u001b[39m# pop in case user has added this...\u001b[39;00m\n\u001b[0;32m-> 1527\u001b[0m gs \u001b[39m=\u001b[39m GridSpec(nrows\u001b[39m=\u001b[39;49mnrows, ncols\u001b[39m=\u001b[39;49mncols, figure\u001b[39m=\u001b[39;49m\u001b[39mself\u001b[39;49m, \u001b[39m*\u001b[39;49m\u001b[39m*\u001b[39;49mkwargs)\n\u001b[1;32m   1528\u001b[0m \u001b[39mreturn\u001b[39;00m gs\n",
      "File \u001b[0;32m~/venvs/sdseenv/lib/python3.10/site-packages/matplotlib/gridspec.py:379\u001b[0m, in \u001b[0;36mGridSpec.__init__\u001b[0;34m(self, nrows, ncols, figure, left, bottom, right, top, wspace, hspace, width_ratios, height_ratios)\u001b[0m\n\u001b[1;32m    376\u001b[0m \u001b[39mself\u001b[39m\u001b[39m.\u001b[39mhspace \u001b[39m=\u001b[39m hspace\n\u001b[1;32m    377\u001b[0m \u001b[39mself\u001b[39m\u001b[39m.\u001b[39mfigure \u001b[39m=\u001b[39m figure\n\u001b[0;32m--> 379\u001b[0m \u001b[39msuper\u001b[39;49m()\u001b[39m.\u001b[39;49m\u001b[39m__init__\u001b[39;49m(nrows, ncols,\n\u001b[1;32m    380\u001b[0m                  width_ratios\u001b[39m=\u001b[39;49mwidth_ratios,\n\u001b[1;32m    381\u001b[0m                  height_ratios\u001b[39m=\u001b[39;49mheight_ratios)\n",
      "File \u001b[0;32m~/venvs/sdseenv/lib/python3.10/site-packages/matplotlib/gridspec.py:49\u001b[0m, in \u001b[0;36mGridSpecBase.__init__\u001b[0;34m(self, nrows, ncols, height_ratios, width_ratios)\u001b[0m\n\u001b[1;32m     34\u001b[0m \u001b[39m\u001b[39m\u001b[39m\"\"\"\u001b[39;00m\n\u001b[1;32m     35\u001b[0m \u001b[39mParameters\u001b[39;00m\n\u001b[1;32m     36\u001b[0m \u001b[39m----------\u001b[39;00m\n\u001b[0;32m   (...)\u001b[0m\n\u001b[1;32m     46\u001b[0m \u001b[39m    If not given, all rows will have the same height.\u001b[39;00m\n\u001b[1;32m     47\u001b[0m \u001b[39m\"\"\"\u001b[39;00m\n\u001b[1;32m     48\u001b[0m \u001b[39mif\u001b[39;00m \u001b[39mnot\u001b[39;00m \u001b[39misinstance\u001b[39m(nrows, Integral) \u001b[39mor\u001b[39;00m nrows \u001b[39m<\u001b[39m\u001b[39m=\u001b[39m \u001b[39m0\u001b[39m:\n\u001b[0;32m---> 49\u001b[0m     \u001b[39mraise\u001b[39;00m \u001b[39mValueError\u001b[39;00m(\n\u001b[1;32m     50\u001b[0m         \u001b[39mf\u001b[39m\u001b[39m\"\u001b[39m\u001b[39mNumber of rows must be a positive integer, not \u001b[39m\u001b[39m{\u001b[39;00mnrows\u001b[39m!r}\u001b[39;00m\u001b[39m\"\u001b[39m)\n\u001b[1;32m     51\u001b[0m \u001b[39mif\u001b[39;00m \u001b[39mnot\u001b[39;00m \u001b[39misinstance\u001b[39m(ncols, Integral) \u001b[39mor\u001b[39;00m ncols \u001b[39m<\u001b[39m\u001b[39m=\u001b[39m \u001b[39m0\u001b[39m:\n\u001b[1;32m     52\u001b[0m     \u001b[39mraise\u001b[39;00m \u001b[39mValueError\u001b[39;00m(\n\u001b[1;32m     53\u001b[0m         \u001b[39mf\u001b[39m\u001b[39m\"\u001b[39m\u001b[39mNumber of columns must be a positive integer, not \u001b[39m\u001b[39m{\u001b[39;00mncols\u001b[39m!r}\u001b[39;00m\u001b[39m\"\u001b[39m)\n",
      "\u001b[0;31mValueError\u001b[0m: Number of rows must be a positive integer, not Ellipsis"
     ]
    },
    {
     "data": {
      "text/plain": [
       "<Figure size 640x480 with 0 Axes>"
      ]
     },
     "metadata": {},
     "output_type": "display_data"
    }
   ],
   "source": [
    "fig, ax = plt.subplots(nrows=...,ncols=...)  # TODO\n",
    "ax[...,...].scatter(...,...,marker='.')\n",
    "..."
   ]
  },
  {
   "cell_type": "markdown",
   "metadata": {},
   "source": [
    "# 2. Sample correlation coefficient\n",
    "\n",
    "Implement the function `corr(D)` that takes a dataset tuple `D` and returns its sample correlation coefficient $r$. "
   ]
  },
  {
   "cell_type": "code",
   "execution_count": null,
   "metadata": {
    "execution": {
     "iopub.execute_input": "2023-10-20T19:52:58.319234Z",
     "iopub.status.busy": "2023-10-20T19:52:58.319042Z",
     "iopub.status.idle": "2023-10-20T19:52:58.322540Z",
     "shell.execute_reply": "2023-10-20T19:52:58.322051Z"
    },
    "tags": []
   },
   "outputs": [],
   "source": [
    "def corr(D):\n",
    "    x, y = D\n",
    "    ...             # TODO\n",
    "    return ...      # TODO"
   ]
  },
  {
   "cell_type": "code",
   "execution_count": null,
   "metadata": {
    "execution": {
     "iopub.execute_input": "2023-10-20T19:52:58.324180Z",
     "iopub.status.busy": "2023-10-20T19:52:58.324050Z",
     "iopub.status.idle": "2023-10-20T19:52:58.327322Z",
     "shell.execute_reply": "2023-10-20T19:52:58.326988Z"
    },
    "tags": []
   },
   "outputs": [],
   "source": [
    "rA = corr(DA)\n",
    "rB = corr(DB)\n",
    "rC = corr(DC)\n",
    "rD = corr(DD)\n",
    "\n",
    "print(f'rA={rA}')\n",
    "print(f'rB={rB}')\n",
    "print(f'rC={rC}')\n",
    "print(f'rD={rD}')"
   ]
  },
  {
   "cell_type": "code",
   "execution_count": null,
   "metadata": {
    "deletable": false,
    "editable": false
   },
   "outputs": [],
   "source": [
    "grader.check(\"q2\")"
   ]
  },
  {
   "cell_type": "markdown",
   "metadata": {},
   "source": [
    "# 3. Compute linear regresssion coefficients\n",
    "\n",
    "Implement the function `compute_linear_regression(D)` that takes a dataset tuple `D` and returns the coefficients of the linear regression $\\theta_0$ and $\\theta_1$. "
   ]
  },
  {
   "cell_type": "code",
   "execution_count": null,
   "metadata": {
    "execution": {
     "iopub.execute_input": "2023-10-20T19:52:58.346674Z",
     "iopub.status.busy": "2023-10-20T19:52:58.346541Z",
     "iopub.status.idle": "2023-10-20T19:52:58.349993Z",
     "shell.execute_reply": "2023-10-20T19:52:58.349690Z"
    },
    "tags": []
   },
   "outputs": [],
   "source": [
    "def compute_linear_regression(D):\n",
    "    ...                 # TODO\n",
    "    theta1 = ...        # TODO\n",
    "    theta0 = ...        # TODO\n",
    "    return theta0, theta1"
   ]
  },
  {
   "cell_type": "code",
   "execution_count": null,
   "metadata": {
    "execution": {
     "iopub.execute_input": "2023-10-20T19:52:58.351475Z",
     "iopub.status.busy": "2023-10-20T19:52:58.351329Z",
     "iopub.status.idle": "2023-10-20T19:52:58.355176Z",
     "shell.execute_reply": "2023-10-20T19:52:58.354790Z"
    },
    "tags": []
   },
   "outputs": [],
   "source": [
    "thetaA = compute_linear_regression(DA)\n",
    "thetaB = compute_linear_regression(DB)\n",
    "thetaC = compute_linear_regression(DC)\n",
    "thetaD = compute_linear_regression(DD)\n",
    "\n",
    "print(f'A: {thetaA}')\n",
    "print(f'B: {thetaB}')\n",
    "print(f'C: {thetaC}')\n",
    "print(f'D: {thetaD}')"
   ]
  },
  {
   "cell_type": "code",
   "execution_count": null,
   "metadata": {
    "deletable": false,
    "editable": false
   },
   "outputs": [],
   "source": [
    "grader.check(\"q3\")"
   ]
  },
  {
   "cell_type": "markdown",
   "metadata": {},
   "source": [
    "# 4. Evaluate linear regresssion prediction\n",
    "\n",
    "Implement the function `eval_linreg(theta,D)` that takes parameters $\\theta=(\\theta_0,\\theta_1$ and the dataset `D=(x,y)` and returns the array of predictions $\\hat{y}$ for the training data: \n",
    "$$\\hat{y} = \\theta_0 + x \\theta_1$$"
   ]
  },
  {
   "cell_type": "code",
   "execution_count": null,
   "metadata": {
    "execution": {
     "iopub.execute_input": "2023-10-20T19:52:58.376487Z",
     "iopub.status.busy": "2023-10-20T19:52:58.376339Z",
     "iopub.status.idle": "2023-10-20T19:52:58.379580Z",
     "shell.execute_reply": "2023-10-20T19:52:58.379252Z"
    },
    "tags": []
   },
   "outputs": [],
   "source": [
    "def eval_linreg(theta,D):\n",
    "    ...             # TODO\n",
    "    return ...      # TODO"
   ]
  },
  {
   "cell_type": "code",
   "execution_count": null,
   "metadata": {
    "execution": {
     "iopub.execute_input": "2023-10-20T19:52:58.380873Z",
     "iopub.status.busy": "2023-10-20T19:52:58.380731Z",
     "iopub.status.idle": "2023-10-20T19:52:58.383716Z",
     "shell.execute_reply": "2023-10-20T19:52:58.383372Z"
    },
    "tags": []
   },
   "outputs": [],
   "source": [
    "yhatA = eval_linreg(thetaA,DA)\n",
    "yhatB = eval_linreg(thetaB,DB)\n",
    "yhatC = eval_linreg(thetaC,DC)\n",
    "yhatD = eval_linreg(thetaD,DD)\n",
    "\n",
    "print(f'yhatA[:20:3]={yhatA[:20:3]}')\n",
    "print(f'yhatB[:20:3]={yhatB[:20:3]}')\n",
    "print(f'yhatC[:20:3]={yhatC[:20:3]}')\n",
    "print(f'yhatD[:20:3]={yhatD[:20:3]}')"
   ]
  },
  {
   "cell_type": "code",
   "execution_count": null,
   "metadata": {
    "deletable": false,
    "editable": false
   },
   "outputs": [],
   "source": [
    "grader.check(\"q4\")"
   ]
  },
  {
   "cell_type": "markdown",
   "metadata": {},
   "source": [
    "# 5. Plot linear regresssion prediction\n",
    "\n",
    "Overlay the linear regression lines on each one of the scatter plots. Your plot should look like this:\n",
    "\n",
    "<img src=\"f2.png\" />"
   ]
  },
  {
   "cell_type": "code",
   "execution_count": null,
   "metadata": {
    "execution": {
     "iopub.execute_input": "2023-10-20T19:52:58.401838Z",
     "iopub.status.busy": "2023-10-20T19:52:58.401586Z",
     "iopub.status.idle": "2023-10-20T19:52:58.746738Z",
     "shell.execute_reply": "2023-10-20T19:52:58.746384Z"
    },
    "tags": []
   },
   "outputs": [],
   "source": [
    "fig, ax = plt.subplots(figsize=(12,8),nrows=2,ncols=2)\n",
    "ax[0,0].scatter(...,...,color='k',marker='.')\n",
    "ax[0,0].plot(...,...)\n",
    "..."
   ]
  },
  {
   "cell_type": "markdown",
   "metadata": {},
   "source": [
    "# 6. Coefficient of determinination\n",
    "\n",
    "Implement the function `eval_Rsquared(theta,D)` that takes parameters $\\theta=(\\theta_0,\\theta_1)$ and the dataset `D` and returns the coefficient of determination $R^2$. Verify the identity $R^2=r^2$\n"
   ]
  },
  {
   "cell_type": "code",
   "execution_count": null,
   "metadata": {
    "execution": {
     "iopub.execute_input": "2023-10-20T19:52:58.748596Z",
     "iopub.status.busy": "2023-10-20T19:52:58.748380Z",
     "iopub.status.idle": "2023-10-20T19:52:58.752348Z",
     "shell.execute_reply": "2023-10-20T19:52:58.752067Z"
    },
    "tags": []
   },
   "outputs": [],
   "source": [
    "def eval_Rsquared(theta,D):\n",
    "    ...             # TODO\n",
    "    return ...      # TODO"
   ]
  },
  {
   "cell_type": "code",
   "execution_count": null,
   "metadata": {
    "execution": {
     "iopub.execute_input": "2023-10-20T19:52:58.753705Z",
     "iopub.status.busy": "2023-10-20T19:52:58.753565Z",
     "iopub.status.idle": "2023-10-20T19:52:58.756225Z",
     "shell.execute_reply": "2023-10-20T19:52:58.755881Z"
    },
    "tags": []
   },
   "outputs": [],
   "source": [
    "RsquaredA = eval_Rsquared(thetaA,DA)\n",
    "RsquaredB = eval_Rsquared(thetaB,DB)\n",
    "RsquaredC = eval_Rsquared(thetaC,DC)\n",
    "RsquaredD = eval_Rsquared(thetaD,DD)\n",
    "\n",
    "print(f'RsquaredA={RsquaredA}')\n",
    "print(f'RsquaredB={RsquaredB}')\n",
    "print(f'RsquaredC={RsquaredC}')\n",
    "print(f'RsquaredD={RsquaredD}')"
   ]
  },
  {
   "cell_type": "markdown",
   "metadata": {},
   "source": [
    "# 7. Estimate $\\sigma^2$\n",
    "\n",
    "Implement the function `estimate_sigma2(theta,D)` that takes parameters $\\theta=(\\theta_0,\\theta_1)$ and the dataset `D` and returns an unbiased estimate of the variance $\\sigma^2$ of the uncertainty values $\\varepsilon_i$ in $y_i=\\theta_0^* + x_i\\theta_1^*  + \\varepsilon_i$. \n",
    "\n",
    "$$\\hat\\sigma^2  = \\frac{1}{N-2} \\sum_{i=1}^{N} (y_i - \\hat{y}_i)^2$$\n"
   ]
  },
  {
   "cell_type": "code",
   "execution_count": null,
   "metadata": {
    "execution": {
     "iopub.execute_input": "2023-10-20T19:52:58.772857Z",
     "iopub.status.busy": "2023-10-20T19:52:58.772712Z",
     "iopub.status.idle": "2023-10-20T19:52:58.775646Z",
     "shell.execute_reply": "2023-10-20T19:52:58.775361Z"
    },
    "tags": []
   },
   "outputs": [],
   "source": [
    "def estimate_sigma2(theta,D):\n",
    "    ...             # TODO\n",
    "    return ...      # TODO"
   ]
  },
  {
   "cell_type": "code",
   "execution_count": null,
   "metadata": {
    "execution": {
     "iopub.execute_input": "2023-10-20T19:52:58.777084Z",
     "iopub.status.busy": "2023-10-20T19:52:58.776830Z",
     "iopub.status.idle": "2023-10-20T19:52:58.779448Z",
     "shell.execute_reply": "2023-10-20T19:52:58.779101Z"
    },
    "tags": []
   },
   "outputs": [],
   "source": [
    "sigma2A = estimate_sigma2(thetaA,DA)\n",
    "sigma2B = estimate_sigma2(thetaB,DB)\n",
    "sigma2C = estimate_sigma2(thetaC,DC)\n",
    "sigma2D = estimate_sigma2(thetaD,DD)\n",
    "\n",
    "print(f'sigma2A={sigma2A}')\n",
    "print(f'sigma2B={sigma2B}')\n",
    "print(f'sigma2C={sigma2C}')\n",
    "print(f'sigma2D={sigma2D}')"
   ]
  },
  {
   "cell_type": "code",
   "execution_count": null,
   "metadata": {
    "deletable": false,
    "editable": false
   },
   "outputs": [],
   "source": [
    "grader.check(\"q7\")"
   ]
  },
  {
   "cell_type": "markdown",
   "metadata": {},
   "source": [
    "# 8. Uncertainty in the linear regression coefficients\n",
    "\n",
    "Implement the function `estimate_sigma2(theta,D)` that takes parameters $\\theta=(\\theta_0,\\theta_1)$ and the dataset `D` and returns the variance associated with the linear regression parameter estimates $Var[\\hat\\Theta_0]$ and $Var[\\hat\\Theta_1]$."
   ]
  },
  {
   "cell_type": "code",
   "execution_count": null,
   "metadata": {
    "execution": {
     "iopub.execute_input": "2023-10-20T19:52:58.799694Z",
     "iopub.status.busy": "2023-10-20T19:52:58.799395Z",
     "iopub.status.idle": "2023-10-20T19:52:58.802940Z",
     "shell.execute_reply": "2023-10-20T19:52:58.802496Z"
    },
    "tags": []
   },
   "outputs": [],
   "source": [
    "def compute_var_param(theta,D):\n",
    "    ...             # TODO\n",
    "    var0 = ...      # TODO\n",
    "    var1 = ...      # TODO\n",
    "    return var0, var1"
   ]
  },
  {
   "cell_type": "code",
   "execution_count": null,
   "metadata": {
    "execution": {
     "iopub.execute_input": "2023-10-20T19:52:58.804755Z",
     "iopub.status.busy": "2023-10-20T19:52:58.804593Z",
     "iopub.status.idle": "2023-10-20T19:52:58.808016Z",
     "shell.execute_reply": "2023-10-20T19:52:58.807690Z"
    },
    "tags": []
   },
   "outputs": [],
   "source": [
    "DC"
   ]
  },
  {
   "cell_type": "code",
   "execution_count": null,
   "metadata": {
    "execution": {
     "iopub.execute_input": "2023-10-20T19:52:58.809957Z",
     "iopub.status.busy": "2023-10-20T19:52:58.809788Z",
     "iopub.status.idle": "2023-10-20T19:52:58.812841Z",
     "shell.execute_reply": "2023-10-20T19:52:58.812528Z"
    },
    "tags": []
   },
   "outputs": [],
   "source": [
    "varA = compute_var_param(thetaA,DA)\n",
    "varB = compute_var_param(thetaB,DB)\n",
    "varC = compute_var_param(thetaC,DC)\n",
    "varD = compute_var_param(thetaD,DD)\n",
    "\n",
    "print(f'A: {varA}')\n",
    "print(f'B: {varB}')\n",
    "print(f'C: {varC}')\n",
    "print(f'D: {varD}')"
   ]
  },
  {
   "cell_type": "code",
   "execution_count": null,
   "metadata": {
    "deletable": false,
    "editable": false
   },
   "outputs": [],
   "source": [
    "grader.check(\"q8\")"
   ]
  },
  {
   "cell_type": "markdown",
   "metadata": {},
   "source": [
    "# 9. Confidence intervals and hypothesis tests\n",
    "\n",
    "Implement the function `compute_rho(theta,D,gamma)` that takes parameters $\\theta=(\\theta_0,\\theta_1)$, the dataset `D`, and a confidence level $\\gamma$, and returns the radiuses $\\rho_0$ and $\\rho_1$ of the $\\gamma$-confidence intervals for $\\theta^*_0$ and $\\theta^*_1$ respectively. "
   ]
  },
  {
   "cell_type": "code",
   "execution_count": null,
   "metadata": {
    "execution": {
     "iopub.execute_input": "2023-10-20T19:52:58.833414Z",
     "iopub.status.busy": "2023-10-20T19:52:58.833272Z",
     "iopub.status.idle": "2023-10-20T19:52:58.836496Z",
     "shell.execute_reply": "2023-10-20T19:52:58.836209Z"
    },
    "tags": []
   },
   "outputs": [],
   "source": [
    "def compute_rho(theta,D,gamma):\n",
    "    ...             # TODO\n",
    "    rho0 = ...      # TODO\n",
    "    rho1 = ...      # TODO\n",
    "    return rho0, rho1"
   ]
  },
  {
   "cell_type": "code",
   "execution_count": null,
   "metadata": {
    "execution": {
     "iopub.execute_input": "2023-10-20T19:52:58.837813Z",
     "iopub.status.busy": "2023-10-20T19:52:58.837671Z",
     "iopub.status.idle": "2023-10-20T19:52:58.844479Z",
     "shell.execute_reply": "2023-10-20T19:52:58.844180Z"
    },
    "tags": []
   },
   "outputs": [],
   "source": [
    "gamma = 0.98\n",
    "rhoA = compute_rho(thetaA,DA,gamma)\n",
    "rhoB = compute_rho(thetaB,DB,gamma)\n",
    "rhoC = compute_rho(thetaC,DC,gamma)\n",
    "rhoD = compute_rho(thetaD,DD,gamma)\n",
    "\n",
    "print(f'rhoA={rhoA}')\n",
    "print(f'rhoB={rhoB}')\n",
    "print(f'rhoC={rhoC}')\n",
    "print(f'rhoD={rhoD}')"
   ]
  },
  {
   "cell_type": "code",
   "execution_count": null,
   "metadata": {
    "deletable": false,
    "editable": false
   },
   "outputs": [],
   "source": [
    "grader.check(\"q9\")"
   ]
  },
  {
   "cell_type": "markdown",
   "metadata": {},
   "source": [
    "# 10. Negligible parameters\n",
    "For which of the slope parameters `thetaA[1]`, `thetaB[1]`, `thetaC[1]`, or `thetaD[1]` is the null hypothesis \n",
    "$$ H_0 : \\theta^*_1=0$$\n",
    "**not** rejected in favor of\n",
    "$$ H_1 : \\theta^*_1\\neq0$$\n",
    "with $\\alpha=0.05$ significance level? \n",
    "\n",
    "Provide your answer as a string from `{'A','B','C','D'}`"
   ]
  },
  {
   "cell_type": "code",
   "execution_count": null,
   "metadata": {
    "execution": {
     "iopub.execute_input": "2023-10-20T19:52:58.863585Z",
     "iopub.status.busy": "2023-10-20T19:52:58.863438Z",
     "iopub.status.idle": "2023-10-20T19:52:58.868136Z",
     "shell.execute_reply": "2023-10-20T19:52:58.867772Z"
    },
    "tags": []
   },
   "outputs": [],
   "source": [
    "answer = ...      # TODO"
   ]
  },
  {
   "cell_type": "markdown",
   "metadata": {},
   "source": [
    "# 11. Nonlinear feature vector\n",
    "\n",
    "The dataset `DA` looks like it could be modeled as an exponential decay. Let's use this insight to see whether we can improve the regression model for this dataset. Define a feture vector `phi` with\n",
    "$$\\phi(x) = e^{-\\lambda x}$$\n",
    "Using trial-and-error, find a value for $\\lambda$ that achieves an $R^2$ of 0.9 or more. "
   ]
  },
  {
   "cell_type": "code",
   "execution_count": null,
   "metadata": {
    "execution": {
     "iopub.execute_input": "2023-10-20T19:52:58.874326Z",
     "iopub.status.busy": "2023-10-20T19:52:58.874173Z",
     "iopub.status.idle": "2023-10-20T19:52:59.046134Z",
     "shell.execute_reply": "2023-10-20T19:52:59.045771Z"
    },
    "tags": []
   },
   "outputs": [],
   "source": [
    "lbda = ...              # TODO\n",
    "x, y = DA\n",
    "phi = np.exp(lbda*x)\n",
    "DA2 = (phi,y)\n",
    "thetaA2 = ...           # TODO\n",
    "RsquaredA2 = ...        # TODO\n",
    "\n",
    "fig, ax = plt.subplots()\n",
    "ax.scatter(DA[0],DA[1],color='k',marker='.')\n",
    "ax.plot(DA[0],eval_linreg(thetaA,DA),label='$R^2$={:.3f}'.format(RsquaredA))\n",
    "ax.plot(DA[0],eval_linreg(thetaA2,DA2),'-',label='$R^2$={:.3f}'.format(RsquaredA2))\n",
    "ax.legend(fontsize=14)"
   ]
  },
  {
   "cell_type": "code",
   "execution_count": null,
   "metadata": {
    "deletable": false,
    "editable": false
   },
   "outputs": [],
   "source": [
    "grader.check(\"q11\")"
   ]
  },
  {
   "cell_type": "markdown",
   "metadata": {},
   "source": [
    "# 12. Prediction uncertainty\n",
    "\n",
    "\n",
    "Implement the function `compute_var_prediction(theta,D,gamma,xi)` that takes parameters $\\theta$, the dataset `D`, and a data sample $x_i$, and returns the variance in the prediction $\\hat{y}_i$ corresponding to $x_i$."
   ]
  },
  {
   "cell_type": "code",
   "execution_count": null,
   "metadata": {
    "execution": {
     "iopub.execute_input": "2023-10-20T19:52:59.052563Z",
     "iopub.status.busy": "2023-10-20T19:52:59.052418Z",
     "iopub.status.idle": "2023-10-20T19:52:59.056859Z",
     "shell.execute_reply": "2023-10-20T19:52:59.056569Z"
    },
    "tags": []
   },
   "outputs": [],
   "source": [
    "def compute_var_prediction(theta,D,xi):\n",
    "    ...             # TODO\n",
    "    return ...      # TODO"
   ]
  },
  {
   "cell_type": "code",
   "execution_count": null,
   "metadata": {
    "execution": {
     "iopub.execute_input": "2023-10-20T19:52:59.058291Z",
     "iopub.status.busy": "2023-10-20T19:52:59.058143Z",
     "iopub.status.idle": "2023-10-20T19:52:59.062227Z",
     "shell.execute_reply": "2023-10-20T19:52:59.061778Z"
    },
    "tags": []
   },
   "outputs": [],
   "source": [
    "varYA = compute_var_prediction(thetaA,DA,DA[0])\n",
    "stddevYA = np.sqrt(varYA)\n",
    "\n",
    "varYB = compute_var_prediction(thetaB,DB,DB[0])\n",
    "stddevYB = np.sqrt(varYB)\n",
    "\n",
    "varYC = compute_var_prediction(thetaC,DC,DC[0])\n",
    "stddevYC = np.sqrt(varYC)\n",
    "\n",
    "varYD = compute_var_prediction(thetaD,DD,DD[0])\n",
    "stddevYD = np.sqrt(varYD)\n",
    "\n",
    "print(f'stddevYA={stddevYA[:20:3]}')\n",
    "print(f'stddevYB={stddevYB[:20:3]}')\n",
    "print(f'stddevYC={stddevYC[:20:3]}')\n",
    "print(f'stddevYD={stddevYD[:20:3]}')"
   ]
  },
  {
   "cell_type": "code",
   "execution_count": null,
   "metadata": {
    "deletable": false,
    "editable": false
   },
   "outputs": [],
   "source": [
    "grader.check(\"q12\")"
   ]
  },
  {
   "cell_type": "markdown",
   "metadata": {},
   "source": [
    "# 13. Plot the prediction with uncertainty bounds\n",
    "\n",
    "Repeat the scatter and prediction plot, but this time overlay an prediction uncertainty band of plus/minus two standard deviations. Your plot should look something like this:\n",
    "\n",
    "<img src=\"f3.png\" />\n"
   ]
  },
  {
   "cell_type": "code",
   "execution_count": null,
   "metadata": {
    "execution": {
     "iopub.execute_input": "2023-10-20T19:52:59.085253Z",
     "iopub.status.busy": "2023-10-20T19:52:59.084909Z",
     "iopub.status.idle": "2023-10-20T19:52:59.449264Z",
     "shell.execute_reply": "2023-10-20T19:52:59.448907Z"
    },
    "tags": []
   },
   "outputs": [],
   "source": [
    "fig, ax = plt.subplots(figsize=(12,8),nrows=2,ncols=2)\n",
    "\n",
    "a = ax[0,0]\n",
    "yhatA = eval_linreg(thetaA,DA)\n",
    "a.scatter(DA[0],DA[1],color='k',marker='.')\n",
    "a.plot(DA[0],yhatA)\n",
    "a.fill_between(DA[0],yhatA-2*stddevYA,yhatA+2*stddevYA,alpha=0.5)\n",
    "\n",
    "..."
   ]
  },
  {
   "cell_type": "markdown",
   "metadata": {
    "deletable": false,
    "editable": false
   },
   "source": [
    "## Submission\n",
    "\n",
    "Make sure you have run all cells in your notebook in order before running the cell below, so that all images/graphs appear in the output. The cell below will generate a zip file for you to submit. **Please save before exporting!**"
   ]
  },
  {
   "cell_type": "code",
   "execution_count": null,
   "metadata": {
    "deletable": false,
    "editable": false
   },
   "outputs": [],
   "source": [
    "# Save your notebook first, then run this cell to export your submission.\n",
    "grader.export(pdf=False)"
   ]
  },
  {
   "cell_type": "markdown",
   "metadata": {},
   "source": [
    " "
   ]
  }
 ],
 "metadata": {
  "kernelspec": {
   "display_name": "sdseenv",
   "language": "python",
   "name": "python3"
  },
  "language_info": {
   "codemirror_mode": {
    "name": "ipython",
    "version": 3
   },
   "file_extension": ".py",
   "mimetype": "text/x-python",
   "name": "python",
   "nbconvert_exporter": "python",
   "pygments_lexer": "ipython3",
   "version": "3.10.12"
  },
  "otter": {
   "OK_FORMAT": true,
   "tests": {
    "q10": {
     "name": "q10",
     "points": null,
     "suites": [
      {
       "cases": [],
       "scored": true,
       "setup": "",
       "teardown": "",
       "type": "doctest"
      }
     ]
    },
    "q11": {
     "name": "q11",
     "points": null,
     "suites": [
      {
       "cases": [
        {
         "code": ">>> phi = np.exp(lbda*DA[0])\n>>> DA2 = (phi,DA[1])\n>>> thetaA2 = compute_linear_regression(DA2)\n>>> RsquaredA2 = eval_Rsquared(thetaA2,DA2)\n>>> RsquaredA2>0.9\nTrue",
         "hidden": false,
         "locked": false,
         "points": 2
        }
       ],
       "scored": true,
       "setup": "",
       "teardown": "",
       "type": "doctest"
      }
     ]
    },
    "q12": {
     "name": "q12",
     "points": null,
     "suites": [
      {
       "cases": [
        {
         "code": ">>> np.all(np.isclose(stddevYA[:20:3],[0.08643448, 0.06966488, 0.0498225,  0.04820286, 0.04679432, 0.04424612,  0.0414014 ],1e-3))\nTrue",
         "hidden": false,
         "locked": false,
         "points": 1
        },
        {
         "code": ">>> np.all(np.isclose(stddevYB[:20:3],[0.08762327, 0.08352081, 0.08168098, 0.07779715, 0.07289334, 0.07035215,  0.06925625],1e-3))\nTrue",
         "hidden": false,
         "locked": false,
         "points": 1
        },
        {
         "code": ">>> np.all(np.isclose(stddevYC[:20:3],[4.35776707, 3.33866243, 2.85387726, 2.42265468, 2.23691524, 2.12253484,  1.95435833],1e-3))\nTrue",
         "hidden": false,
         "locked": false,
         "points": 1
        },
        {
         "code": ">>> np.all(np.isclose(stddevYD[:20:3],[1.05420215, 0.72793851, 0.65995923, 0.55575209, 0.49422517, 0.47528383,  0.43187652],1e-3))\nTrue",
         "hidden": false,
         "locked": false,
         "points": 1
        }
       ],
       "scored": true,
       "setup": "",
       "teardown": "",
       "type": "doctest"
      }
     ]
    },
    "q2": {
     "name": "q2",
     "points": null,
     "suites": [
      {
       "cases": [
        {
         "code": ">>> np.isclose(rA,-0.8099147715792736,1e-3)\nTrue",
         "hidden": false,
         "locked": false,
         "points": 1
        }
       ],
       "scored": true,
       "setup": "",
       "teardown": "",
       "type": "doctest"
      }
     ]
    },
    "q3": {
     "name": "q3",
     "points": null,
     "suites": [
      {
       "cases": [
        {
         "code": ">>> np.isclose(thetaA[0],3.749057503898907,1e-3) and np.isclose(thetaA[1],-0.0462178161454909,1e-3)\nTrue",
         "hidden": false,
         "locked": false,
         "points": 1
        }
       ],
       "scored": true,
       "setup": "",
       "teardown": "",
       "type": "doctest"
      }
     ]
    },
    "q4": {
     "name": "q4",
     "points": null,
     "suites": [
      {
       "cases": [
        {
         "code": ">>> np.all(np.isclose(yhatA[:20:3],[3.98923839, 3.73908805, 3.4193214, 3.39071521, 3.36528081, 3.31764243, 3.26114505],1e-3))\nTrue",
         "hidden": false,
         "locked": false,
         "points": 1
        },
        {
         "code": ">>> np.all(np.isclose(yhatB[:20:3],[1.10744508, 1.2380595, 1.29750078, 1.42506595, 1.59110387, 1.67990742, 1.71890906],1e-3))\nTrue",
         "hidden": false,
         "locked": false,
         "points": 1
        },
        {
         "code": ">>> np.all(np.isclose(yhatC[:20:3],[179.72584278, 156.97516769, 145.60977061, 134.87236202, 129.92229685, 126.71703594, 121.67884977],1e-2))\nTrue",
         "hidden": false,
         "locked": false,
         "points": 1
        },
        {
         "code": ">>> np.all(np.isclose(yhatD[:20:3],[50.46531219, 50.17274557, 50.10828722, 50.00413843, 49.93722651, 49.91523581, 49.86076567],1e-2))\nTrue",
         "hidden": false,
         "locked": false,
         "points": 1
        }
       ],
       "scored": true,
       "setup": "",
       "teardown": "",
       "type": "doctest"
      }
     ]
    },
    "q6": {
     "name": "q6",
     "points": null,
     "suites": [
      {
       "cases": [],
       "scored": true,
       "setup": "",
       "teardown": "",
       "type": "doctest"
      }
     ]
    },
    "q7": {
     "name": "q7",
     "points": null,
     "suites": [
      {
       "cases": [
        {
         "code": ">>> np.isclose(sigma2A,0.0962882921462249,1e-3)\nTrue",
         "hidden": false,
         "locked": false,
         "points": 1
        },
        {
         "code": ">>> np.isclose(sigma2B,0.2082814866175884,1e-3)\nTrue",
         "hidden": false,
         "locked": false,
         "points": 1
        },
        {
         "code": ">>> np.isclose(sigma2C,218.80072616698286,1e-1)\nTrue",
         "hidden": false,
         "locked": false,
         "points": 1
        },
        {
         "code": ">>> np.isclose(sigma2D,11.604657865691147,1e-1)\nTrue",
         "hidden": false,
         "locked": false,
         "points": 1
        }
       ],
       "scored": true,
       "setup": "",
       "teardown": "",
       "type": "doctest"
      }
     ]
    },
    "q8": {
     "name": "q8",
     "points": null,
     "suites": [
      {
       "cases": [
        {
         "code": ">>> np.isclose(varA[0],0.004944706915203485,1e-3) and np.isclose(varA[1],1.1431957976526583e-05,1e-3) \nTrue",
         "hidden": false,
         "locked": false,
         "points": 1
        },
        {
         "code": ">>> np.isclose(varB[0],0.008480394564633838,1e-5) and np.isclose(varB[1],6.201746581241882e-05,1e-2) \nTrue",
         "hidden": false,
         "locked": false,
         "points": 1
        },
        {
         "code": ">>> np.isclose(varC[0],4.5691174071390455,1e-1) and np.isclose(varC[1],0.005635582130422289,1e-2)\nTrue",
         "hidden": false,
         "locked": false,
         "points": 1
        },
        {
         "code": ">>> np.isclose(varD[0],0.21272847310590542,1e-3) and np.isclose(varD[1],0.00025779124994615524,1e-5) \nTrue",
         "hidden": false,
         "locked": false,
         "points": 1
        }
       ],
       "scored": true,
       "setup": "",
       "teardown": "",
       "type": "doctest"
      }
     ]
    },
    "q9": {
     "name": "q9",
     "points": null,
     "suites": [
      {
       "cases": [
        {
         "code": ">>> np.isclose(rhoA[0],0.16358554892650395,1e-3) and np.isclose(rhoA[1],0.007865656343192947,1e-5)\nTrue",
         "hidden": false,
         "locked": false,
         "points": 1
        },
        {
         "code": ">>> np.isclose(rhoB[0],0.214231183811987,1e-3) and np.isclose(rhoB[1],0.018320261402565527,1e-4)\nTrue",
         "hidden": false,
         "locked": false,
         "points": 1
        },
        {
         "code": ">>> np.isclose(rhoC[0],4.97268348585844,1e-2) and np.isclose(rhoC[1],0.1746401315487988,1e-3)\nTrue",
         "hidden": false,
         "locked": false,
         "points": 1
        },
        {
         "code": ">>> np.isclose(rhoD[0],1.072969728803447,1e-2) and np.isclose(rhoD[1],0.037351559940089984,1e-4)\nTrue",
         "hidden": false,
         "locked": false,
         "points": 1
        }
       ],
       "scored": true,
       "setup": "",
       "teardown": "",
       "type": "doctest"
      }
     ]
    }
   }
  }
 },
 "nbformat": 4,
 "nbformat_minor": 2
}
