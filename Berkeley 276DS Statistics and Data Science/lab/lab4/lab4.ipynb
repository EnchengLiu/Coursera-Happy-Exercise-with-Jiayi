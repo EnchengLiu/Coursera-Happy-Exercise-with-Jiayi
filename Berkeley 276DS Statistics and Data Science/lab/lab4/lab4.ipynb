{
 "cells": [
  {
   "cell_type": "code",
   "execution_count": null,
   "metadata": {
    "deletable": false,
    "editable": false
   },
   "outputs": [],
   "source": [
    "# Initialize Otter\n",
    "import otter\n",
    "grader = otter.Notebook(\"lab4.ipynb\")"
   ]
  },
  {
   "cell_type": "markdown",
   "metadata": {},
   "source": [
    "---\n",
    "\n",
    "<h1><center>SDSE Lab 4 <br><br> Linear regression and Feature selection </center></h1>\n",
    "\n",
    "---\n",
    "\n",
    "In this lab we will use linear regression to predict cancer mortality rates based on data obtained from the American Community Survey of the [U.S. Census Bureau](https://www.census.gov/). The lab has four parts. In part 1 you will load the data and do basic manipulations using [pandas](https://pandas.pydata.org/docs/index.html). Pandas is a Python package that specializes in tabular data. It is widely used in data science and machine learning since the data in these fields are usually structured as a table. Pandas is a very powerful library that is well worth investing some time to learn [here](https://pandas.pydata.org/docs/getting_started/index.html#getting-started) and [here](https://pandas.pydata.org/docs/user_guide/index.html).\n",
    "\n",
    "In part 2 you will perform linear regression on the full feature set. In part 3 you will compute confidence intervals and perform hypothesis tests on the paramters from part 2. Finally, in part 4 you will run the forward and backward stepwise feature selection algorithms and estimate the performance of the resulting model using a test dataset."
   ]
  },
  {
   "cell_type": "code",
   "execution_count": null,
   "metadata": {
    "execution": {
     "iopub.execute_input": "2023-10-14T02:38:28.219358Z",
     "iopub.status.busy": "2023-10-14T02:38:28.219208Z",
     "iopub.status.idle": "2023-10-14T02:38:28.890507Z",
     "shell.execute_reply": "2023-10-14T02:38:28.890136Z"
    }
   },
   "outputs": [],
   "source": [
    "import numpy as np\n",
    "import matplotlib.pyplot as plt\n",
    "import pandas as pd\n",
    "import scipy.stats as stats"
   ]
  },
  {
   "cell_type": "markdown",
   "metadata": {},
   "source": [
    "<h1><font color='purple'> Part 1:  Loading and cleaning the data</font></h1>"
   ]
  },
  {
   "cell_type": "markdown",
   "metadata": {},
   "source": [
    "## 1.1 Load the data into a pandas DataFrame\n",
    "\n",
    "See a description of the data [here](https://data.world/nrippner/ols-regression-challenge).\n",
    "\n",
    "Use [pd.read_csv](https://pandas.pydata.org/docs/reference/api/pandas.read_csv.html) to load the data from `cancerdata.csv`.\n",
    "\n",
    "You can obtain information about the data using these DataFrame methods:\n",
    "+ `data.head()` to see the first 5 rows of the DataFrame.\n",
    "+ `data.tail()` to see the last 5 rows of the DataFrame.\n",
    "+ `data.shape` is the tuple (number of rows, number of columns).\n",
    "+ `data.columns` contains the column labels.\n",
    "+ `data.index` contains the row labels."
   ]
  },
  {
   "cell_type": "code",
   "execution_count": null,
   "metadata": {
    "execution": {
     "iopub.execute_input": "2023-10-14T02:38:28.892709Z",
     "iopub.status.busy": "2023-10-14T02:38:28.892508Z",
     "iopub.status.idle": "2023-10-14T02:38:28.903926Z",
     "shell.execute_reply": "2023-10-14T02:38:28.903538Z"
    },
    "tags": []
   },
   "outputs": [],
   "source": [
    "data = ...  # TODO"
   ]
  },
  {
   "cell_type": "markdown",
   "metadata": {},
   "source": [
    "## 1.2 Inspect columns\n",
    "\n",
    "Run `data.info()` and note:\n",
    " a) which features are non-numerical (Dtype=object), and\n",
    " b) which features have null entries (Non-Null Count<3047).\n",
    "\n",
    "Store the names ('Column' entry) of the non-numerical features in the set `non_numerical_features`. Store the names of features with null entries in the set `null_entry_features`.\n",
    "\n",
    "**Note**: If not all of the rows of `data.info()` are displayed, you'll probably have this message at the bottom:\n",
    "\n",
    "*``Output is truncated. View as a scrollable element or open in a text editor. Adjust cell output settings...''*"
   ]
  },
  {
   "cell_type": "code",
   "execution_count": null,
   "metadata": {
    "execution": {
     "iopub.execute_input": "2023-10-14T02:38:28.933185Z",
     "iopub.status.busy": "2023-10-14T02:38:28.933001Z",
     "iopub.status.idle": "2023-10-14T02:38:28.941625Z",
     "shell.execute_reply": "2023-10-14T02:38:28.941242Z"
    },
    "tags": []
   },
   "outputs": [],
   "source": [
    "data.info()\n",
    "non_numerical_features = {...,...}      # TODO\n",
    "null_entry_features = {...,...,...}     # TODO"
   ]
  },
  {
   "cell_type": "code",
   "execution_count": null,
   "metadata": {
    "deletable": false,
    "editable": false
   },
   "outputs": [],
   "source": [
    "grader.check(\"q1p2\")"
   ]
  },
  {
   "cell_type": "markdown",
   "metadata": {},
   "source": [
    "## 1.3 Discard non-numerical columns\n",
    "\n",
    "Remove the two columns with non-numeric data.\n",
    "\n",
    "Hints:\n",
    "+ `data.dtypes` lists the data types for each column.\n",
    "+ You can construct a boolean indicator array of non-numeric colums with `data.dtypes=='object'`.\n",
    "+ Use that array to index `data.columns`\n",
    "+ Use [`data.drop`](https://pandas.pydata.org/docs/reference/api/pandas.DataFrame.drop.html) to remove the selected columns"
   ]
  },
  {
   "cell_type": "code",
   "execution_count": null,
   "metadata": {
    "execution": {
     "iopub.execute_input": "2023-10-14T02:38:28.951214Z",
     "iopub.status.busy": "2023-10-14T02:38:28.951088Z",
     "iopub.status.idle": "2023-10-14T02:38:28.954464Z",
     "shell.execute_reply": "2023-10-14T02:38:28.954166Z"
    },
    "tags": []
   },
   "outputs": [],
   "source": [
    "ind = ...               # TODO\n",
    "drop_cols = ...         # TODO\n",
    "data = data.drop(...)   # TODO"
   ]
  },
  {
   "cell_type": "code",
   "execution_count": null,
   "metadata": {
    "deletable": false,
    "editable": false
   },
   "outputs": [],
   "source": [
    "grader.check(\"q1p3\")"
   ]
  },
  {
   "cell_type": "markdown",
   "metadata": {},
   "source": [
    "## 1.4 Discard columns where more than 10% of values are nan\n",
    "\n",
    "Hints:\n",
    "+ [`data.dropna`](https://pandas.pydata.org/docs/reference/api/pandas.DataFrame.dropna.html)\n",
    "+ `axis=1` ... we are dropping columns\n",
    "+ `thresh` ... The condition for dropping a column is that it has less than `round(0.9*data.shape[0])` non-nans.\n"
   ]
  },
  {
   "cell_type": "code",
   "execution_count": null,
   "metadata": {
    "execution": {
     "iopub.execute_input": "2023-10-14T02:38:28.971449Z",
     "iopub.status.busy": "2023-10-14T02:38:28.971188Z",
     "iopub.status.idle": "2023-10-14T02:38:28.974953Z",
     "shell.execute_reply": "2023-10-14T02:38:28.974638Z"
    },
    "tags": []
   },
   "outputs": [],
   "source": [
    "thresh = ...                # TODO\n",
    "data = data.dropna(...)     # TODO\n",
    "data.shape"
   ]
  },
  {
   "cell_type": "code",
   "execution_count": null,
   "metadata": {
    "deletable": false,
    "editable": false
   },
   "outputs": [],
   "source": [
    "grader.check(\"q1p4\")"
   ]
  },
  {
   "cell_type": "markdown",
   "metadata": {},
   "source": [
    "## 1.5 Drop all rows that contain one or more nans.\n",
    "\n",
    "Hint: You can again use `data.dropna` for this."
   ]
  },
  {
   "cell_type": "code",
   "execution_count": null,
   "metadata": {
    "execution": {
     "iopub.execute_input": "2023-10-14T02:38:28.984452Z",
     "iopub.status.busy": "2023-10-14T02:38:28.984303Z",
     "iopub.status.idle": "2023-10-14T02:38:28.987479Z",
     "shell.execute_reply": "2023-10-14T02:38:28.987176Z"
    },
    "tags": []
   },
   "outputs": [],
   "source": [
    "data = ...      # TODO"
   ]
  },
  {
   "cell_type": "code",
   "execution_count": null,
   "metadata": {
    "deletable": false,
    "editable": false
   },
   "outputs": [],
   "source": [
    "grader.check(\"q1p5\")"
   ]
  },
  {
   "cell_type": "markdown",
   "metadata": {},
   "source": [
    "## 1.6 Inspect correlations\n",
    "\n",
    "Next we'll look at the correlation coefficients between each of the features and the target variable `target_deathrate`.\n",
    "\n",
    "1) Use `data.corr()` to build the correlations matrix.\n",
    "2) Inspect the column (or row) corresponding to `target_deathrate`.\n",
    "3) Rank (i.e. sort) the features from most to least correlated with the output. This ranking is in terms of the absolute value of the correlation coefficient.\n",
    "4) Save the top 5 correlated features to `top_5_corr`. `top_5_corr` should be a numpy array with shape `(5,)`.\n",
    "\n",
    "Hints:\n",
    "+ [`abs`](https://pandas.pydata.org/docs/reference/api/pandas.Series.abs.html)\n",
    "+ [`sort_values`](https://pandas.pydata.org/docs/reference/api/pandas.Series.sort_values.html)\n",
    "+ [`to_numpy`](https://pandas.pydata.org/docs/reference/api/pandas.Series.to_numpy.html)"
   ]
  },
  {
   "cell_type": "code",
   "execution_count": null,
   "metadata": {
    "execution": {
     "iopub.execute_input": "2023-10-14T02:38:28.992479Z",
     "iopub.status.busy": "2023-10-14T02:38:28.992343Z",
     "iopub.status.idle": "2023-10-14T02:38:28.998891Z",
     "shell.execute_reply": "2023-10-14T02:38:28.998569Z"
    },
    "tags": []
   },
   "outputs": [],
   "source": [
    "# correlation matrix\n",
    "C = ...         # TODO\n",
    "\n",
    "# vector correlations between the features and target_deathrate\n",
    "corr_target = ...         # TODO\n",
    "\n",
    "# sorted corr_target_sort\n",
    "corr_target_sort = ...         # TODO\n",
    "\n",
    "# top 5 correlations with target_deathrate\n",
    "top_5_sort = ...         # TODO"
   ]
  },
  {
   "cell_type": "code",
   "execution_count": null,
   "metadata": {
    "deletable": false,
    "editable": false
   },
   "outputs": [],
   "source": [
    "grader.check(\"q1p6\")"
   ]
  },
  {
   "cell_type": "markdown",
   "metadata": {},
   "source": [
    "## 1.7 Scatter plot\n",
    "\n",
    "Make a scatter plot of the data with the most correlated feature along the x axis, and the target along the y axis.\n",
    "\n",
    "Hint: You can use the plotting function attached to the DataFrame: [data.plot(kind='scatter',x=..., y=...)](https://pandas.pydata.org/docs/reference/api/pandas.DataFrame.plot.html)"
   ]
  },
  {
   "cell_type": "code",
   "execution_count": null,
   "metadata": {
    "execution": {
     "iopub.execute_input": "2023-10-14T02:38:29.004034Z",
     "iopub.status.busy": "2023-10-14T02:38:29.003849Z",
     "iopub.status.idle": "2023-10-14T02:38:29.108498Z",
     "shell.execute_reply": "2023-10-14T02:38:29.108134Z"
    },
    "tags": []
   },
   "outputs": [],
   "source": [
    "data.plot(kind='scatter',x=...,y=...)   # TODO"
   ]
  },
  {
   "cell_type": "markdown",
   "metadata": {},
   "source": [
    "---\n",
    "\n",
    "<h1><font color='purple'> Part 2: Linear regression </font></h1>"
   ]
  },
  {
   "cell_type": "markdown",
   "metadata": {},
   "source": [
    "## 2.1 Extract data matrices\n",
    "\n",
    "The next cell extracts the `X` and `Y` matrices from `data`. It also makes a list of `features`, and defines the number of samples `N` and the number of features `P`."
   ]
  },
  {
   "cell_type": "code",
   "execution_count": null,
   "metadata": {
    "execution": {
     "iopub.execute_input": "2023-10-14T02:38:29.110405Z",
     "iopub.status.busy": "2023-10-14T02:38:29.110066Z",
     "iopub.status.idle": "2023-10-14T02:38:29.115328Z",
     "shell.execute_reply": "2023-10-14T02:38:29.114756Z"
    },
    "tags": []
   },
   "outputs": [],
   "source": [
    "X = data.drop(columns='target_deathrate').values\n",
    "features = data.columns.values\n",
    "features = features[features!='target_deathrate']\n",
    "Y = data['target_deathrate'].values\n",
    "\n",
    "N = ...\n",
    "P = ..."
   ]
  },
  {
   "cell_type": "code",
   "execution_count": null,
   "metadata": {
    "deletable": false,
    "editable": false
   },
   "outputs": [],
   "source": [
    "grader.check(\"q2p1\")"
   ]
  },
  {
   "cell_type": "markdown",
   "metadata": {},
   "source": [
    "## 2.2 Center the inputs\n",
    "\n",
    "\\begin{align*}\n",
    "\\hat\\mu_X &= \\frac{1}{N} \\mathbf{1}^T_N \\mathbf{X} \\\\\n",
    "\\mathbf{X}^c&=\\mathbf{X}-\\mathbf{1}_N\\hat\\mu_X\n",
    "\\end{align*}\n",
    "\n",
    "Compute the column-wise means `muhatX` and subtract them from `X` to obtain `Xc`. \n",
    "\n",
    "Hint: \n",
    "+ Use `X.mean(axis=...)`. Should it be `axis=0` or `axis=1`? \n",
    "+ The formula for `Xc` above has $\\mathbf{1}_N\\hat\\mu_X$. The broadcasting rules of numpy make multiplying $\\hat\\mu_X$ by $\\mathbf{1}_N$ unnecessary.\n",
    "\n",
    "Check that the column-wise means of `Xc` equal zero (to machine precision). "
   ]
  },
  {
   "cell_type": "code",
   "execution_count": null,
   "metadata": {
    "execution": {
     "iopub.execute_input": "2023-10-14T02:38:29.136430Z",
     "iopub.status.busy": "2023-10-14T02:38:29.136213Z",
     "iopub.status.idle": "2023-10-14T02:38:29.138905Z",
     "shell.execute_reply": "2023-10-14T02:38:29.138604Z"
    },
    "tags": []
   },
   "outputs": [],
   "source": [
    "muhatX = ...    # TODO\n",
    "Xc = ...        # TODO"
   ]
  },
  {
   "cell_type": "code",
   "execution_count": null,
   "metadata": {
    "deletable": false,
    "editable": false
   },
   "outputs": [],
   "source": [
    "grader.check(\"q2p2\")"
   ]
  },
  {
   "cell_type": "markdown",
   "metadata": {},
   "source": [
    "## 2.3 Center the outputs\n",
    "\n",
    "\\begin{align*}\n",
    "\\hat\\mu_Y &= \\frac{1}{N} \\mathbf{1}^T_N \\mathbf{Y} \\\\\n",
    "\\mathbf{Y}^c&=\\mathbf{Y}-\\mathbf{1}_N\\hat\\mu_Y\n",
    "\\end{align*}\n"
   ]
  },
  {
   "cell_type": "code",
   "execution_count": null,
   "metadata": {
    "execution": {
     "iopub.execute_input": "2023-10-14T02:38:29.153250Z",
     "iopub.status.busy": "2023-10-14T02:38:29.153102Z",
     "iopub.status.idle": "2023-10-14T02:38:29.156167Z",
     "shell.execute_reply": "2023-10-14T02:38:29.155826Z"
    },
    "tags": []
   },
   "outputs": [],
   "source": [
    "muhatY = ...  # TODO\n",
    "Yc = ... # TODO"
   ]
  },
  {
   "cell_type": "code",
   "execution_count": null,
   "metadata": {
    "deletable": false,
    "editable": false
   },
   "outputs": [],
   "source": [
    "grader.check(\"q2p3\")"
   ]
  },
  {
   "cell_type": "markdown",
   "metadata": {},
   "source": [
    "## 2.4 Compute the inverse input covariance martrix.\n",
    "\n",
    "\n",
    "$$\\Sigma^{-1}_X=( (\\mathbf{X}^c)^T \\mathbf{X}^c)^{-1}$$\n",
    "\n",
    "Hints:\n",
    "+ numpy's @ operator and matrix transposition (`Xc.T`). See [this](https://numpy.org/devdocs/user/numpy-for-matlab-users.html) summary of the key differences between numpy and Matlab.\n",
    "+ [np.linalg.inv](https://numpy.org/doc/stable/reference/generated/numpy.linalg.inv.html)\n"
   ]
  },
  {
   "cell_type": "code",
   "execution_count": null,
   "metadata": {
    "execution": {
     "iopub.execute_input": "2023-10-14T02:38:29.166444Z",
     "iopub.status.busy": "2023-10-14T02:38:29.166147Z",
     "iopub.status.idle": "2023-10-14T02:38:29.175164Z",
     "shell.execute_reply": "2023-10-14T02:38:29.174756Z"
    },
    "tags": []
   },
   "outputs": [],
   "source": [
    "invCovX = ...   # TODO"
   ]
  },
  {
   "cell_type": "code",
   "execution_count": null,
   "metadata": {
    "deletable": false,
    "editable": false
   },
   "outputs": [],
   "source": [
    "grader.check(\"q2p4\")"
   ]
  },
  {
   "cell_type": "markdown",
   "metadata": {},
   "source": [
    "## 2.5 Compute the least squares estimates of the parameters\n",
    "\n",
    "\\begin{align*}\n",
    "\\underline{\\hat\\theta}_1 &= \\Sigma^{-1}_X(\\mathbf{X}^c)^{T} \\mathbf{Y}^c \\\\\n",
    "\\hat\\theta_0 &= \\hat\\mu_Y - \\hat\\mu_X \\underline{\\hat\\theta}_1\n",
    "\\end{align*}"
   ]
  },
  {
   "cell_type": "code",
   "execution_count": null,
   "metadata": {
    "execution": {
     "iopub.execute_input": "2023-10-14T02:38:29.187721Z",
     "iopub.status.busy": "2023-10-14T02:38:29.187569Z",
     "iopub.status.idle": "2023-10-14T02:38:29.192154Z",
     "shell.execute_reply": "2023-10-14T02:38:29.191762Z"
    },
    "tags": []
   },
   "outputs": [],
   "source": [
    "theta1hat = ...  # TODO\n",
    "theta0hat = ...  # TODO"
   ]
  },
  {
   "cell_type": "code",
   "execution_count": null,
   "metadata": {
    "deletable": false,
    "editable": false
   },
   "outputs": [],
   "source": [
    "grader.check(\"q2p5\")"
   ]
  },
  {
   "cell_type": "markdown",
   "metadata": {},
   "source": [
    "## 2.6 Compute predictions for each of the samples\n",
    "\n",
    "$$\\mathbf{\\hat{Y}} = \\mathbf{1}_N\\hat\\theta_0 + \\mathbf{X}\\underline{\\hat\\theta}_1$$\n"
   ]
  },
  {
   "cell_type": "code",
   "execution_count": null,
   "metadata": {
    "execution": {
     "iopub.execute_input": "2023-10-14T02:38:29.211446Z",
     "iopub.status.busy": "2023-10-14T02:38:29.211274Z",
     "iopub.status.idle": "2023-10-14T02:38:29.216133Z",
     "shell.execute_reply": "2023-10-14T02:38:29.215719Z"
    },
    "tags": []
   },
   "outputs": [],
   "source": [
    "Yhat = ...  # TODO"
   ]
  },
  {
   "cell_type": "code",
   "execution_count": null,
   "metadata": {
    "deletable": false,
    "editable": false
   },
   "outputs": [],
   "source": [
    "grader.check(\"q2p6\")"
   ]
  },
  {
   "cell_type": "markdown",
   "metadata": {},
   "source": [
    "# 2.7 Model performance\n",
    "\n",
    "Compute the coefficient of determination $R^2$ for this model on the trainging data.\n",
    "\n",
    "$$ R^2 = 1 - \\frac{\\sum_{i=1}^N (y_i-\\hat{y}_i)^2}{\\sum_{i=1}^N (y_i-\\hat\\mu_X)^2}$$"
   ]
  },
  {
   "cell_type": "markdown",
   "metadata": {},
   "source": []
  },
  {
   "cell_type": "code",
   "execution_count": null,
   "metadata": {
    "execution": {
     "iopub.execute_input": "2023-10-14T02:38:29.228784Z",
     "iopub.status.busy": "2023-10-14T02:38:29.228495Z",
     "iopub.status.idle": "2023-10-14T02:38:29.232505Z",
     "shell.execute_reply": "2023-10-14T02:38:29.232161Z"
    },
    "tags": []
   },
   "outputs": [],
   "source": [
    "R2 = ...    # TODO"
   ]
  },
  {
   "cell_type": "code",
   "execution_count": null,
   "metadata": {
    "deletable": false,
    "editable": false
   },
   "outputs": [],
   "source": [
    "grader.check(\"q2p7\")"
   ]
  },
  {
   "cell_type": "markdown",
   "metadata": {},
   "source": [
    "---\n",
    "\n",
    "<h1><font color='purple'> Part 3: Parameter uncertainty and hypothesis test</font></h1>"
   ]
  },
  {
   "cell_type": "markdown",
   "metadata": {},
   "source": [
    "## 3.1 Estimate the variance of the output\n",
    "\n",
    "$$\\hat\\sigma^2 = \\frac{1}{N-P-1} \\sum_{i=1}^{N}(y_i-\\hat{y}_i)^2$$"
   ]
  },
  {
   "cell_type": "code",
   "execution_count": null,
   "metadata": {
    "execution": {
     "iopub.execute_input": "2023-10-14T02:38:29.240435Z",
     "iopub.status.busy": "2023-10-14T02:38:29.239901Z",
     "iopub.status.idle": "2023-10-14T02:38:29.244687Z",
     "shell.execute_reply": "2023-10-14T02:38:29.244283Z"
    },
    "tags": []
   },
   "outputs": [],
   "source": [
    "sigmahat2 = ..."
   ]
  },
  {
   "cell_type": "code",
   "execution_count": null,
   "metadata": {
    "deletable": false,
    "editable": false
   },
   "outputs": [],
   "source": [
    "grader.check(\"q3p1\")"
   ]
  },
  {
   "cell_type": "markdown",
   "metadata": {},
   "source": [
    "## 3.2 Compute the variances of the slope parameters\n",
    "\n",
    "These are the diagonal entries of \n",
    "$$Var[\\underline{\\hat\\Theta}_1] = \\hat\\sigma^2 \\Sigma^{-1}_X $$\n",
    "\n",
    "In other words, the variance of $\\hat\\theta_p$ is the $p$'th diagonal entry of $Var[\\underline{\\hat\\Theta}_1]$.\n",
    "\n",
    "**Hint**: [`np.diag`](https://numpy.org/doc/stable/reference/generated/numpy.diag.html)"
   ]
  },
  {
   "cell_type": "code",
   "execution_count": null,
   "metadata": {
    "execution": {
     "iopub.execute_input": "2023-10-14T02:38:29.253252Z",
     "iopub.status.busy": "2023-10-14T02:38:29.252732Z",
     "iopub.status.idle": "2023-10-14T02:38:29.256235Z",
     "shell.execute_reply": "2023-10-14T02:38:29.255811Z"
    },
    "tags": []
   },
   "outputs": [],
   "source": [
    "var_thetahat = ... # TODO"
   ]
  },
  {
   "cell_type": "code",
   "execution_count": null,
   "metadata": {
    "deletable": false,
    "editable": false
   },
   "outputs": [],
   "source": [
    "grader.check(\"q3p2\")"
   ]
  },
  {
   "cell_type": "markdown",
   "metadata": {},
   "source": [
    "## 3.3 Conduct a hypothesis test on each of the parameters, with the null hypothesis that the parameter value is zero. Use a significance level of $\\alpha=0.05$."
   ]
  },
  {
   "cell_type": "markdown",
   "metadata": {},
   "source": [
    "### 3.3.1 Compute Z statistic for each parameter\n",
    "\n",
    "We know that all of the parameters are Gaussian with variance given by the $p$'th diagonal entry in $\\hat\\sigma^2 \\Sigma^{-1}_X$. We denote this variance as $v_p$. Then $v_p$ is the $p$-th entry in `var_thetahat`. To evaluate the hypothesis test we need to compute the z-statistic.\n",
    "\n",
    "$$Z_p = \\frac{\\hat\\theta_p}{\\sqrt{v_p}}$$\n",
    "\n",
    "Construct an array $Z$ with entries equal to these $Z_p$'s"
   ]
  },
  {
   "cell_type": "code",
   "execution_count": null,
   "metadata": {
    "execution": {
     "iopub.execute_input": "2023-10-14T02:38:29.270918Z",
     "iopub.status.busy": "2023-10-14T02:38:29.270632Z",
     "iopub.status.idle": "2023-10-14T02:38:29.273838Z",
     "shell.execute_reply": "2023-10-14T02:38:29.273475Z"
    },
    "tags": []
   },
   "outputs": [],
   "source": [
    "Z = ...    # TODO"
   ]
  },
  {
   "cell_type": "code",
   "execution_count": null,
   "metadata": {
    "deletable": false,
    "editable": false
   },
   "outputs": [],
   "source": [
    "grader.check(\"q3p3p1\")"
   ]
  },
  {
   "cell_type": "markdown",
   "metadata": {},
   "source": [
    "### 3.3.2. Compute the p-value for each parameter\n",
    "\n",
    "$$p_i = 2\\: \\Phi_{\\mathcal{N}}(-|Z_i|)$$"
   ]
  },
  {
   "cell_type": "code",
   "execution_count": null,
   "metadata": {
    "execution": {
     "iopub.execute_input": "2023-10-14T02:38:29.287672Z",
     "iopub.status.busy": "2023-10-14T02:38:29.287411Z",
     "iopub.status.idle": "2023-10-14T02:38:29.296925Z",
     "shell.execute_reply": "2023-10-14T02:38:29.291763Z"
    },
    "tags": []
   },
   "outputs": [],
   "source": [
    "p = ...   # TODO"
   ]
  },
  {
   "cell_type": "code",
   "execution_count": null,
   "metadata": {
    "deletable": false,
    "editable": false
   },
   "outputs": [],
   "source": [
    "grader.check(\"q3p3p2\")"
   ]
  },
  {
   "cell_type": "markdown",
   "metadata": {},
   "source": [
    "### 3.3.3 Create a boolean mask indicating features that were deemed influential by the hypothesis test (H0 was rejected)\n",
    "\n",
    "Done already."
   ]
  },
  {
   "cell_type": "code",
   "execution_count": null,
   "metadata": {
    "execution": {
     "iopub.execute_input": "2023-10-14T02:38:29.314508Z",
     "iopub.status.busy": "2023-10-14T02:38:29.314197Z",
     "iopub.status.idle": "2023-10-14T02:38:29.318315Z",
     "shell.execute_reply": "2023-10-14T02:38:29.317919Z"
    }
   },
   "outputs": [],
   "source": [
    "ind_influential = p<0.05\n",
    "ind_influential"
   ]
  },
  {
   "cell_type": "markdown",
   "metadata": {},
   "source": [
    "### 3.4 Parameters table.\n",
    "Make a DataFrame with one row per parameter. The index of the table should be the parameter names. The columns should be:\n",
    "+ `theta`: the point estimate of the parameter.\n",
    "+ `stddev`: the estiuamted standard deviation of the parameters.\n",
    "+ `Z`: Z scores computed in part 3.3.1\n",
    "+ `p`: p-values compute in part 3.3.2\n",
    "+ `influential`: the boolean indicator from part 3.3.3.\n",
    "\n",
    "Done already."
   ]
  },
  {
   "cell_type": "code",
   "execution_count": null,
   "metadata": {
    "execution": {
     "iopub.execute_input": "2023-10-14T02:38:29.320244Z",
     "iopub.status.busy": "2023-10-14T02:38:29.319943Z",
     "iopub.status.idle": "2023-10-14T02:38:29.336362Z",
     "shell.execute_reply": "2023-10-14T02:38:29.335735Z"
    }
   },
   "outputs": [],
   "source": [
    "lr_params = pd.DataFrame(index=features,\n",
    "             data={'thetahat':theta1hat,\n",
    "                   'variance':var_thetahat,\n",
    "                   'Z':Z,\n",
    "                   'p':p,\n",
    "                   'influential':ind_influential})\n",
    "\n",
    "lr_params"
   ]
  },
  {
   "cell_type": "markdown",
   "metadata": {},
   "source": [
    "## 3.5 Sort the parameters table by p-value\n",
    "\n",
    "Create a new DataFrame called `lr_params_sorted` by sorting the values in ascending order, according to p-values.\n",
    "\n",
    "Hint: [`sort_values`](https://pandas.pydata.org/docs/reference/api/pandas.DataFrame.sort_values.html)"
   ]
  },
  {
   "cell_type": "code",
   "execution_count": null,
   "metadata": {
    "execution": {
     "iopub.execute_input": "2023-10-14T02:38:29.338776Z",
     "iopub.status.busy": "2023-10-14T02:38:29.338452Z",
     "iopub.status.idle": "2023-10-14T02:38:29.343140Z",
     "shell.execute_reply": "2023-10-14T02:38:29.342633Z"
    },
    "tags": []
   },
   "outputs": [],
   "source": [
    "lr_params_sorted = ...   # TODO"
   ]
  },
  {
   "cell_type": "code",
   "execution_count": null,
   "metadata": {
    "deletable": false,
    "editable": false
   },
   "outputs": [],
   "source": [
    "grader.check(\"q3p5\")"
   ]
  },
  {
   "cell_type": "markdown",
   "metadata": {},
   "source": [
    "## 3.6 Bar plot\n",
    "\n",
    "The bar plot below shows the parameter values along with their 95% (2$\\sigma$) confidence intervals. Influential fetaures are showns in green, non-influential features are shown in red."
   ]
  },
  {
   "cell_type": "code",
   "execution_count": null,
   "metadata": {
    "execution": {
     "iopub.execute_input": "2023-10-14T02:38:29.353021Z",
     "iopub.status.busy": "2023-10-14T02:38:29.352727Z",
     "iopub.status.idle": "2023-10-14T02:38:29.537099Z",
     "shell.execute_reply": "2023-10-14T02:38:29.536494Z"
    }
   },
   "outputs": [],
   "source": [
    "color = np.array(['g' for i in range(P)])\n",
    "color[~lr_params_sorted['influential']] = 'r'\n",
    "\n",
    "lr_params_sorted.plot(kind='bar',\n",
    "                y='thetahat',\n",
    "                yerr=2*np.sqrt(lr_params_sorted['variance']),\n",
    "                figsize=(15,5),\n",
    "                color=color,\n",
    "                legend=False)\n",
    "plt.grid(linestyle=':')"
   ]
  },
  {
   "cell_type": "markdown",
   "metadata": {},
   "source": [
    "## 3.7 Build list of features to keep\n",
    "\n",
    "Extract the names of influential features from `lr_params_sorted` and store them in `features` (overwrite the previous values). `features` should be a numpy array with shape `(15,)`."
   ]
  },
  {
   "cell_type": "code",
   "execution_count": null,
   "metadata": {
    "execution": {
     "iopub.execute_input": "2023-10-14T02:38:29.539341Z",
     "iopub.status.busy": "2023-10-14T02:38:29.538959Z",
     "iopub.status.idle": "2023-10-14T02:38:29.542439Z",
     "shell.execute_reply": "2023-10-14T02:38:29.542095Z"
    },
    "tags": []
   },
   "outputs": [],
   "source": [
    "features = ...  # TODO"
   ]
  },
  {
   "cell_type": "code",
   "execution_count": null,
   "metadata": {
    "deletable": false,
    "editable": false
   },
   "outputs": [],
   "source": [
    "grader.check(\"q3p7\")"
   ]
  },
  {
   "cell_type": "markdown",
   "metadata": {},
   "source": [
    "## 3.8 Create a new DataFrame with only the chosen features\n",
    "\n",
    "Done already. Notice that the target variable is now called `Y`."
   ]
  },
  {
   "cell_type": "code",
   "execution_count": null,
   "metadata": {
    "execution": {
     "iopub.execute_input": "2023-10-14T02:38:29.552728Z",
     "iopub.status.busy": "2023-10-14T02:38:29.552504Z",
     "iopub.status.idle": "2023-10-14T02:38:29.565811Z",
     "shell.execute_reply": "2023-10-14T02:38:29.565489Z"
    }
   },
   "outputs": [],
   "source": [
    "D = data[features].copy()\n",
    "D['Y'] = data['target_deathrate']\n",
    "D"
   ]
  },
  {
   "cell_type": "markdown",
   "metadata": {},
   "source": [
    "---\n",
    "\n",
    "<h1><font color='purple'> Part 4: Feature subset selection</font></h1>"
   ]
  },
  {
   "cell_type": "markdown",
   "metadata": {},
   "source": [
    "## 4.1 Split D into training, validation, and testing datasets\n",
    "\n",
    "We will use 70% of the data for training, 15% for validation, and 15% for testing.\n",
    "\n",
    "1. Define `Dtrain` as the first `Ntrain` rows of `D`.\n",
    "2. Define `Dvalidate` as the next `Nvalidate` rows of `D`.\n",
    "3. Define `Dtest` as the last `Ntest` rows of `D`.\n",
    "\n",
    "Here we use pandas' [iloc](https://pandas.pydata.org/docs/reference/api/pandas.DataFrame.iloc.html) method for selecting the three datasets."
   ]
  },
  {
   "cell_type": "code",
   "execution_count": null,
   "metadata": {
    "execution": {
     "iopub.execute_input": "2023-10-14T02:38:29.568269Z",
     "iopub.status.busy": "2023-10-14T02:38:29.568116Z",
     "iopub.status.idle": "2023-10-14T02:38:29.570916Z",
     "shell.execute_reply": "2023-10-14T02:38:29.570597Z"
    }
   },
   "outputs": [],
   "source": [
    "Ntrain = round(0.7*N)\n",
    "Nvalidate = round(0.15*N)\n",
    "Ntest = N - Ntrain - Nvalidate\n",
    "Ntrain, Nvalidate, Ntest\n",
    "\n",
    "Dtrain = D.iloc[:Ntrain,:]\n",
    "Dvalidate = D.iloc[Ntrain:Ntrain+Nvalidate,:]\n",
    "Dtest = D.iloc[Ntrain+Nvalidate:,:]"
   ]
  },
  {
   "cell_type": "markdown",
   "metadata": {},
   "source": [
    "## 4.2 Linear regression training function\n",
    "\n",
    "Create a function called `train` that receives a list of features `S` and a dataset `Dtrain` and does the following:\n",
    "1. Selects the features `S` from `D` and stores them in `X`. (done already)\n",
    "2. Selects the target values from `D` and stores them in `Y`. (done already)\n",
    "3. Performs the linear regression calculations from parts 2.2, 2.3, and 2.4\n",
    "4. Returns the estimated parameters $\\hat\\theta$"
   ]
  },
  {
   "cell_type": "code",
   "execution_count": null,
   "metadata": {
    "execution": {
     "iopub.execute_input": "2023-10-14T02:38:29.572374Z",
     "iopub.status.busy": "2023-10-14T02:38:29.572242Z",
     "iopub.status.idle": "2023-10-14T02:38:29.576618Z",
     "shell.execute_reply": "2023-10-14T02:38:29.576284Z"
    },
    "tags": []
   },
   "outputs": [],
   "source": [
    "def train(S, Dtrain):\n",
    "\n",
    "    X = Dtrain[list(S)].values\n",
    "    Y = Dtrain['Y'].values\n",
    "\n",
    "    # 2.2 Center the inputs \n",
    "    muhatX = ...    # TODO\n",
    "    Xc = ...    # TODO\n",
    "\n",
    "    # 2.3 Center the outputs \n",
    "    muhatY = ...    # TODO\n",
    "    Yc = ...    # TODO\n",
    "\n",
    "    # 2.4 Compute the inverse input covariance matrix\n",
    "    invCovX = ...    # TODO\n",
    "\n",
    "    # 2.5 Compute the least squares estimates of the parameters\n",
    "    theta1hat = ...    # TODO\n",
    "    theta0hat = ...    # TODO\n",
    "\n",
    "    return theta0hat, theta1hat"
   ]
  },
  {
   "cell_type": "code",
   "execution_count": null,
   "metadata": {
    "execution": {
     "iopub.execute_input": "2023-10-14T02:38:29.578037Z",
     "iopub.status.busy": "2023-10-14T02:38:29.577882Z",
     "iopub.status.idle": "2023-10-14T02:38:29.581254Z",
     "shell.execute_reply": "2023-10-14T02:38:29.580179Z"
    },
    "tags": []
   },
   "outputs": [],
   "source": [
    "theta0hat, theta1hat = train(['incidencerate','birthrate'], Dtrain)"
   ]
  },
  {
   "cell_type": "code",
   "execution_count": null,
   "metadata": {
    "deletable": false,
    "editable": false
   },
   "outputs": [],
   "source": [
    "grader.check(\"q4p2\")"
   ]
  },
  {
   "cell_type": "markdown",
   "metadata": {},
   "source": [
    "## 4.3 Model evluation function\n",
    "\n",
    "Create a function called `perf` that receives the linear regression parameters `theta0hat` and `theta1hat`, their corresponding feature names `S`, and a dataset `D`, which may be the validation or the training dataset.\n",
    "\n",
    "The function should evluate the means squared error (MSE) for the model using this data.\n",
    "\n",
    "The steps are:\n",
    "1. Select the features `S` from `D` and stores them in `X`. (done already)\n",
    "2. Select the target values from `D` and stores them in `Y`. (done already)\n",
    "3. Compute `Yhat`, as in part 2.6.\n",
    "4. Use the MSE as the performance metric:\n",
    "\n",
    "$$MSE = \\frac{1}{N}\\sum_{i=1}^{N} ( y_i-\\hat{y}_i)^2$$"
   ]
  },
  {
   "cell_type": "code",
   "execution_count": null,
   "metadata": {
    "execution": {
     "iopub.execute_input": "2023-10-14T02:38:29.591943Z",
     "iopub.status.busy": "2023-10-14T02:38:29.591775Z",
     "iopub.status.idle": "2023-10-14T02:38:29.595889Z",
     "shell.execute_reply": "2023-10-14T02:38:29.595560Z"
    },
    "tags": []
   },
   "outputs": [],
   "source": [
    "def perf( S, theta0hat, theta1hat, D):\n",
    "\n",
    "    X = D[list(S)].values\n",
    "    Y = D['Y'].values\n",
    "\n",
    "    # 2.6 Compute predictions for each of the samples\n",
    "    Yhat = ... # TODO\n",
    "\n",
    "    # 2.7 Model performance\n",
    "    MSE = ... # TODO\n",
    "    \n",
    "    return MSE"
   ]
  },
  {
   "cell_type": "code",
   "execution_count": null,
   "metadata": {
    "execution": {
     "iopub.execute_input": "2023-10-14T02:38:29.597154Z",
     "iopub.status.busy": "2023-10-14T02:38:29.597023Z",
     "iopub.status.idle": "2023-10-14T02:38:29.600944Z",
     "shell.execute_reply": "2023-10-14T02:38:29.600638Z"
    },
    "tags": []
   },
   "outputs": [],
   "source": [
    "theta0hat, theta1hat = train(['incidencerate','birthrate'], Dtrain)\n",
    "perf(['incidencerate','birthrate'], theta0hat, theta1hat, Dtrain)"
   ]
  },
  {
   "cell_type": "code",
   "execution_count": null,
   "metadata": {
    "deletable": false,
    "editable": false
   },
   "outputs": [],
   "source": [
    "grader.check(\"q4p3\")"
   ]
  },
  {
   "cell_type": "markdown",
   "metadata": {},
   "source": [
    "## 4.4 Forward stepwise selection\n",
    "\n",
    "Following is the code for forward stepwise feature selection that was shown in class. When you run it, it will store the solution in variables with names `f_*`.\n",
    "\n",
    "This part has no deliverables."
   ]
  },
  {
   "cell_type": "code",
   "execution_count": null,
   "metadata": {
    "execution": {
     "iopub.execute_input": "2023-10-14T02:38:29.608583Z",
     "iopub.status.busy": "2023-10-14T02:38:29.608420Z",
     "iopub.status.idle": "2023-10-14T02:38:29.611105Z",
     "shell.execute_reply": "2023-10-14T02:38:29.610789Z"
    }
   },
   "outputs": [],
   "source": [
    "P = len(features)\n",
    "curlyP = set(features)"
   ]
  },
  {
   "cell_type": "code",
   "execution_count": null,
   "metadata": {
    "execution": {
     "iopub.execute_input": "2023-10-14T02:38:29.612467Z",
     "iopub.status.busy": "2023-10-14T02:38:29.612332Z",
     "iopub.status.idle": "2023-10-14T02:38:29.728462Z",
     "shell.execute_reply": "2023-10-14T02:38:29.727939Z"
    }
   },
   "outputs": [],
   "source": [
    "curlyS = [set() for i in range(P+1)]\n",
    "ellk = np.full(P+1,np.inf)\n",
    "\n",
    "for k in range(1,P+1):\n",
    "    \n",
    "    curlyA = [set() for i in range(P-k+1)]\n",
    "    ellkappa = np.full(P-k+1,np.inf)\n",
    "\n",
    "    for kappa, phip in enumerate(curlyP-curlyS[k-1]):\n",
    "        curlyA[kappa] = curlyS[k-1].union({phip})\n",
    "        theta0hat, theta1hat = train( curlyA[kappa] , Dtrain)\n",
    "        ellkappa[kappa] = perf(curlyA[kappa], theta0hat, theta1hat, \n",
    "                               Dvalidate)\n",
    "\n",
    "    kappastar = ellkappa.argmin()\n",
    "    curlyS[k] = curlyA[kappastar]\n",
    "    ellk[k] = ellkappa[kappastar]\n",
    "\n",
    "kstar = ellk.argmin()\n",
    "Sstar = curlyS[kstar]\n",
    "theta0star, theta1star = train(Sstar, Dtrain)\n",
    "ellstar = perf(Sstar, theta0star, theta1star, Dtest)\n",
    "\n",
    "# Store the results\n",
    "f_ellk = ellk\n",
    "f_ellstar = ellstar\n",
    "f_kstar = kstar"
   ]
  },
  {
   "cell_type": "markdown",
   "metadata": {},
   "source": [
    "## 4.5 Backward stepwise selection\n",
    "\n",
    "Complete the code for backward stepwise selection."
   ]
  },
  {
   "cell_type": "code",
   "execution_count": null,
   "metadata": {
    "execution": {
     "iopub.execute_input": "2023-10-14T02:38:29.731382Z",
     "iopub.status.busy": "2023-10-14T02:38:29.731076Z",
     "iopub.status.idle": "2023-10-14T02:38:29.885866Z",
     "shell.execute_reply": "2023-10-14T02:38:29.885352Z"
    },
    "tags": []
   },
   "outputs": [],
   "source": [
    "curlyS = [set() for i in range(P+1)]\n",
    "curlyS[P] = set(features)\n",
    "ellk = np.full(P+1,np.inf)\n",
    "\n",
    "for k in range(...):    # TODO\n",
    "\n",
    "    assert k+1 == len(curlyS[k+1])\n",
    "    curlyA = [set() for i in range(k+1)]\n",
    "    ellkappa = np.full(k+1,np.inf)\n",
    "\n",
    "    for kappa, phip in enumerate(...):    # TODO\n",
    "        curlyA[kappa] = ...    # TODO\n",
    "        theta0hat, theta1hat = train( curlyA[kappa] , Dtrain)\n",
    "        ellkappa[kappa] = perf(curlyA[kappa], theta0hat, theta1hat, Dvalidate)\n",
    "\n",
    "    kappastar = ellkappa.argmin()\n",
    "    curlyS[k] = curlyA[kappastar]\n",
    "    ellk[k] = ellkappa[kappastar]\n",
    "\n",
    "kstar = ellk.argmin()\n",
    "Sstar = curlyS[kstar]\n",
    "theta0star, theta1star = train(Sstar , Dtrain)\n",
    "ellstar = perf(Sstar, theta0star, theta1star, Dtest)\n",
    "\n",
    "# Store the results\n",
    "b_ellk = ellk\n",
    "b_ellstar = ellstar\n",
    "b_kstar = kstar"
   ]
  },
  {
   "cell_type": "code",
   "execution_count": null,
   "metadata": {
    "deletable": false,
    "editable": false
   },
   "outputs": [],
   "source": [
    "grader.check(\"q4p5\")"
   ]
  },
  {
   "cell_type": "markdown",
   "metadata": {},
   "source": [
    "## Plot\n",
    "\n",
    "The following plot shows the results of forward and backward stepwise feature selection for this regression problem. In each case, the star indicates the test error for the model with the smallest validation error."
   ]
  },
  {
   "cell_type": "code",
   "execution_count": null,
   "metadata": {
    "execution": {
     "iopub.execute_input": "2023-10-14T02:38:29.894392Z",
     "iopub.status.busy": "2023-10-14T02:38:29.894152Z",
     "iopub.status.idle": "2023-10-14T02:38:30.164105Z",
     "shell.execute_reply": "2023-10-14T02:38:30.163718Z"
    }
   },
   "outputs": [],
   "source": [
    "plt.figure(figsize=(10,5))\n",
    "\n",
    "plt.plot(range(P+1),f_ellk,'o-',color='blue',label='forward',linewidth=3)\n",
    "plt.plot([f_kstar,f_kstar],[f_ellk[f_kstar],f_ellstar],color='blue',linestyle='--',linewidth=2)\n",
    "plt.plot(f_kstar,f_ellstar,'*',color='blue',markersize=22)\n",
    "\n",
    "c = 'darkorange'\n",
    "plt.plot(range(P+1),b_ellk,'o-',color=c,label='backward',linewidth=2)\n",
    "plt.plot([b_kstar,b_kstar],[b_ellk[b_kstar],b_ellstar],color=c,linestyle=':',linewidth=2)\n",
    "plt.plot(b_kstar,b_ellstar,'*',color=c,markersize=16)\n",
    "plt.legend(fontsize=16)\n",
    "\n",
    "plt.grid(linestyle=':')\n",
    "\n",
    "# plt.ylim(340,480)\n",
    "# plt.xlim(0,16)\n",
    "plt.xticks(range(16),fontsize=16)\n",
    "plt.xlabel('k',fontsize=16)\n",
    "plt.ylabel('MSE',fontsize=16)"
   ]
  },
  {
   "cell_type": "markdown",
   "metadata": {
    "deletable": false,
    "editable": false
   },
   "source": [
    "## Submission\n",
    "\n",
    "Make sure you have run all cells in your notebook in order before running the cell below, so that all images/graphs appear in the output. The cell below will generate a zip file for you to submit. **Please save before exporting!**"
   ]
  },
  {
   "cell_type": "code",
   "execution_count": null,
   "metadata": {
    "deletable": false,
    "editable": false
   },
   "outputs": [],
   "source": [
    "# Save your notebook first, then run this cell to export your submission.\n",
    "grader.export(pdf=False)"
   ]
  },
  {
   "cell_type": "markdown",
   "metadata": {},
   "source": [
    " "
   ]
  }
 ],
 "metadata": {
  "kernelspec": {
   "display_name": "sdseenv",
   "language": "python",
   "name": "python3"
  },
  "language_info": {
   "codemirror_mode": {
    "name": "ipython",
    "version": 3
   },
   "file_extension": ".py",
   "mimetype": "text/x-python",
   "name": "python",
   "nbconvert_exporter": "python",
   "pygments_lexer": "ipython3",
   "version": "3.10.12"
  },
  "otter": {
   "OK_FORMAT": true,
   "tests": {
    "q1p2": {
     "name": "q1p2",
     "points": null,
     "suites": [
      {
       "cases": [
        {
         "code": ">>> non_numerical_features == {'geography','binnedinc'}\nTrue",
         "hidden": false,
         "locked": false,
         "points": 1
        },
        {
         "code": ">>> null_entry_features == {'pctsomecol18_24','pctprivatecoveragealone','pctemployed16_over'}\nTrue",
         "hidden": false,
         "locked": false,
         "points": 1
        }
       ],
       "scored": true,
       "setup": "",
       "teardown": "",
       "type": "doctest"
      }
     ]
    },
    "q1p3": {
     "name": "q1p3",
     "points": null,
     "suites": [
      {
       "cases": [
        {
         "code": ">>> data.shape[0]==3047\nTrue",
         "hidden": false,
         "locked": false,
         "points": 0
        },
        {
         "code": ">>> 'binnedinc' not in data.columns\nTrue",
         "hidden": false,
         "locked": false,
         "points": 1
        },
        {
         "code": ">>> 'geography' not in data.columns\nTrue",
         "hidden": false,
         "locked": false,
         "points": 1
        },
        {
         "code": ">>> data.shape[1]==26\nTrue",
         "hidden": false,
         "locked": false,
         "points": 1
        }
       ],
       "scored": true,
       "setup": "",
       "teardown": "",
       "type": "doctest"
      }
     ]
    },
    "q1p4": {
     "name": "q1p4",
     "points": null,
     "suites": [
      {
       "cases": [
        {
         "code": ">>> thresh == 2742\nTrue",
         "hidden": false,
         "locked": false,
         "points": 1
        },
        {
         "code": ">>> data.shape[1] == 24\nTrue",
         "hidden": false,
         "locked": false,
         "points": 1
        }
       ],
       "scored": true,
       "setup": "",
       "teardown": "",
       "type": "doctest"
      }
     ]
    },
    "q1p5": {
     "name": "q1p5",
     "points": null,
     "suites": [
      {
       "cases": [
        {
         "code": ">>> data.shape[0] == 2895\nTrue",
         "hidden": false,
         "locked": false,
         "points": 1
        }
       ],
       "scored": true,
       "setup": "",
       "teardown": "",
       "type": "doctest"
      }
     ]
    },
    "q1p6": {
     "name": "q1p6",
     "points": null,
     "suites": [
      {
       "cases": [
        {
         "code": ">>> set(top_5_sort) == {'pctbachdeg25_over', 'pctpubliccoveragealone', 'incidencerate','medincome', 'povertypercent'}\nTrue",
         "hidden": false,
         "locked": false,
         "points": 3
        }
       ],
       "scored": true,
       "setup": "",
       "teardown": "",
       "type": "doctest"
      }
     ]
    },
    "q2p1": {
     "name": "q2p1",
     "points": null,
     "suites": [
      {
       "cases": [
        {
         "code": ">>> N==2895\nTrue",
         "hidden": false,
         "locked": false,
         "points": 1
        },
        {
         "code": ">>> P==23\nTrue",
         "hidden": false,
         "locked": false,
         "points": 1
        },
        {
         "code": ">>> features.shape[0]==23\nTrue",
         "hidden": false,
         "locked": false,
         "points": 0
        },
        {
         "code": ">>> Y.shape[0]==2895\nTrue",
         "hidden": false,
         "locked": false,
         "points": 0
        },
        {
         "code": ">>> X.shape==(2895, 23)\nTrue",
         "hidden": false,
         "locked": false,
         "points": 0
        }
       ],
       "scored": true,
       "setup": "",
       "teardown": "",
       "type": "doctest"
      }
     ]
    },
    "q2p2": {
     "name": "q2p2",
     "points": null,
     "suites": [
      {
       "cases": [
        {
         "code": ">>> muhatX.shape == (23,)\nTrue",
         "hidden": false,
         "locked": false,
         "points": 1
        },
        {
         "code": ">>> np.all(np.isclose(muhatX,[4.47968130e+02, 4.70018943e+04, 1.69154404e+01, 4.51043869e+01,\\\n...        2.47898111e+00, 5.17701900e+01, 1.82317098e+01, 3.50329188e+01,\\\n...        6.17371330e+00, 3.48162003e+01, 1.32435924e+01, 5.41526425e+01,\\\n...        7.85772021e+00, 6.43052159e+01, 4.11553022e+01, 3.63139551e+01,\\\n...        1.92735060e+01, 8.36106781e+01, 9.13387070e+00, 1.26068542e+00,\\\n...        2.00590580e+00, 5.12269330e+01, 5.63689582e+00],rtol=1e-3))\nTrue",
         "hidden": false,
         "locked": false,
         "points": 1
        },
        {
         "code": ">>> np.all(np.isclose(Xc.mean(axis=0),0.0,rtol=1e-3))\nTrue",
         "hidden": false,
         "locked": false,
         "points": 1
        }
       ],
       "scored": true,
       "setup": "",
       "teardown": "",
       "type": "doctest"
      }
     ]
    },
    "q2p3": {
     "name": "q2p3",
     "points": null,
     "suites": [
      {
       "cases": [
        {
         "code": ">>> np.isclose(muhatY,178.63896373056997,rtol=1e-3)\nTrue",
         "hidden": false,
         "locked": false,
         "points": 1
        },
        {
         "code": ">>> np.all(np.isclose(Yc[:20:3],[-13.73896373,  16.16103627,  -2.73896373,  -0.83896373,-13.33896373,  -8.73896373, -15.33896373],rtol=1e-3))\nTrue",
         "hidden": false,
         "locked": false,
         "points": 1
        }
       ],
       "scored": true,
       "setup": "",
       "teardown": "",
       "type": "doctest"
      }
     ]
    },
    "q2p4": {
     "name": "q2p4",
     "points": null,
     "suites": [
      {
       "cases": [
        {
         "code": ">>> invCovX.shape==(23, 23)\nTrue",
         "hidden": false,
         "locked": false,
         "points": 1
        },
        {
         "code": ">>> np.all(np.isclose(invCovX[:3,:3],[[ 1.55818994e-07, -9.72805269e-11, -5.97570481e-09],\n...        [-9.72805269e-11,  1.78370982e-11,  1.75957749e-08],\n...        [-5.97570481e-09,  1.75957749e-08,  6.94182659e-05]],rtol=1e-3))\nTrue",
         "hidden": false,
         "locked": false,
         "points": 2
        }
       ],
       "scored": true,
       "setup": "",
       "teardown": "",
       "type": "doctest"
      }
     ]
    },
    "q2p5": {
     "name": "q2p5",
     "points": null,
     "suites": [
      {
       "cases": [
        {
         "code": ">>> theta1hat.shape[0]==23 and theta0hat.shape==()\nTrue",
         "hidden": false,
         "locked": false,
         "points": 1
        },
        {
         "code": ">>> np.all(np.isclose(theta1hat[:4],[ 1.87505833e-01,  3.61306252e-05,  2.91681846e-01, -5.21889897e-03],rtol=1e-3))\nTrue",
         "hidden": false,
         "locked": false,
         "points": 1
        },
        {
         "code": ">>> np.isclose(theta0hat,172.2115464819792,1e-1)\nTrue",
         "hidden": false,
         "locked": false,
         "points": 1
        }
       ],
       "scored": true,
       "setup": "",
       "teardown": "",
       "type": "doctest"
      }
     ]
    },
    "q2p6": {
     "name": "q2p6",
     "points": null,
     "suites": [
      {
       "cases": [
        {
         "code": ">>> Yhat.shape[0] == 2895\nTrue",
         "hidden": false,
         "locked": false
        },
        {
         "code": ">>> np.all(np.isclose(Yhat[:10],np.array([168.798185, 153.607133, 151.787604, 184.359217,\\\n...  160.431376, 185.604204, 185.307495, 170.591354, 189.465497, 183.483833, ]),rtol=1e-3))\nTrue",
         "hidden": false,
         "locked": false,
         "points": 2
        }
       ],
       "scored": true,
       "setup": "",
       "teardown": "",
       "type": "doctest"
      }
     ]
    },
    "q2p7": {
     "name": "q2p7",
     "points": null,
     "suites": [
      {
       "cases": [
        {
         "code": ">>> np.isclose(R2,0.5046425705820057,1e-3)\nTrue",
         "hidden": false,
         "locked": false,
         "points": 1
        }
       ],
       "scored": true,
       "setup": "",
       "teardown": "",
       "type": "doctest"
      }
     ]
    },
    "q3p1": {
     "name": "q3p1",
     "points": null,
     "suites": [
      {
       "cases": [
        {
         "code": ">>> \n>>> np.isclose(sigmahat2,376.6542996857211,1e-1)\nTrue",
         "hidden": false,
         "locked": false,
         "points": 1
        }
       ],
       "scored": true,
       "setup": "",
       "teardown": "",
       "type": "doctest"
      }
     ]
    },
    "q3p2": {
     "name": "q3p2",
     "points": null,
     "suites": [
      {
       "cases": [
        {
         "code": ">>> var_thetahat.shape[0]==23\nTrue",
         "hidden": false,
         "locked": false,
         "points": 1
        },
        {
         "code": ">>> np.all(np.isclose(var_thetahat[:5],[5.86898940e-05, 6.71841973e-09, 2.61466883e-02, 6.69954056e-05,9.79994181e-01],rtol=1e-3))\nTrue",
         "hidden": false,
         "locked": false,
         "points": 2
        }
       ],
       "scored": true,
       "setup": "",
       "teardown": "",
       "type": "doctest"
      }
     ]
    },
    "q3p3p1": {
     "name": "q3p3p1",
     "points": null,
     "suites": [
      {
       "cases": [
        {
         "code": ">>> Z.shape[0]==23\nTrue",
         "hidden": false,
         "locked": false,
         "points": 1
        },
        {
         "code": ">>> np.all(np.isclose(Z,[24.47558717,  0.44080033,  1.80385264, -0.63761185,  0.80510603,\\\n...         7.0223698 , -3.40843532,  3.64926127, -1.04382238,  3.7620073 ,\\\n...        -7.71833656, -6.1402445 ,  0.93827042, -3.41225513,  3.95073064,\\\n...        -5.15880917,  3.92598565, -2.21461196, -1.11862628, -0.88496897,\\\n...        -7.22533367, -7.70994712, -4.27941014],rtol=1e-3))\nTrue",
         "hidden": false,
         "locked": false,
         "points": 1
        }
       ],
       "scored": true,
       "setup": "",
       "teardown": "",
       "type": "doctest"
      }
     ]
    },
    "q3p3p2": {
     "name": "q3p3p2",
     "points": null,
     "suites": [
      {
       "cases": [
        {
         "code": ">>> p.shape[0]==23\nTrue",
         "hidden": false,
         "locked": false,
         "points": 1
        },
        {
         "code": ">>> np.all(np.isclose(p,[2.68832634e-132, 6.59357555e-001, 7.12544118e-002, 5.23726380e-001,\\\n...        4.20758498e-001, 2.18136252e-012, 6.53365715e-004, 2.62995517e-004,\\\n...        2.96567574e-001, 1.68555128e-004, 1.17857663e-014, 8.23945617e-010,\\\n...        3.48105456e-001, 6.44277829e-004, 7.79129732e-005, 2.48525449e-007,\\\n...        8.63753049e-005, 2.67867102e-002, 2.63299608e-001, 3.76173367e-001,\\\n...        4.99872942e-013, 1.25869879e-014, 1.87389273e-005],rtol=1e-3))\nTrue",
         "hidden": false,
         "locked": false,
         "points": 2
        }
       ],
       "scored": true,
       "setup": "",
       "teardown": "",
       "type": "doctest"
      }
     ]
    },
    "q3p5": {
     "name": "q3p5",
     "points": null,
     "suites": [
      {
       "cases": [
        {
         "code": ">>> \n>>> np.all(lr_params_sorted.index==['incidencerate','pctbachdeg25_over','pctmarriedhouseholds',\\\n... 'pctotherrace', 'percentmarried', 'pctemployed16_over','pctpubliccoverage', 'birthrate', 'pctempprivcoverage',\\\n... 'pctpubliccoveragealone', 'pcths25_over', 'pcths18_24','pctprivatecoverage', 'pctnohs18_24', 'pctwhite', 'povertypercent',\\\n... 'pctblack', 'pctbachdeg18_24', 'pctunemployed16_over', 'pctasian','avghouseholdsize', 'medianage', 'medincome'])\nTrue",
         "hidden": false,
         "locked": false,
         "points": 2
        }
       ],
       "scored": true,
       "setup": "",
       "teardown": "",
       "type": "doctest"
      }
     ]
    },
    "q3p7": {
     "name": "q3p7",
     "points": null,
     "suites": [
      {
       "cases": [
        {
         "code": ">>> type(features)==np.ndarray\nTrue",
         "hidden": false,
         "locked": false,
         "points": 1
        },
        {
         "code": ">>> np.all(features[:5] == np.array(['incidencerate','pctbachdeg25_over','pctmarriedhouseholds','pctotherrace','percentmarried']))\nTrue",
         "hidden": false,
         "locked": false,
         "points": 1
        }
       ],
       "scored": true,
       "setup": "",
       "teardown": "",
       "type": "doctest"
      }
     ]
    },
    "q4p2": {
     "name": "q4p2",
     "points": null,
     "suites": [
      {
       "cases": [
        {
         "code": ">>> np.isclose(theta0hat,92.08020640170582,rtol=1e-3)\nTrue",
         "hidden": false,
         "locked": false,
         "points": 2
        },
        {
         "code": ">>> np.all(np.isclose(theta1hat,[ 0.19592875, -0.24497933],rtol=1e-3))\nTrue",
         "hidden": false,
         "locked": false,
         "points": 2
        }
       ],
       "scored": true,
       "setup": "",
       "teardown": "",
       "type": "doctest"
      }
     ]
    },
    "q4p3": {
     "name": "q4p3",
     "points": null,
     "suites": [
      {
       "cases": [
        {
         "code": ">>> theta0hat, theta1hat = train(['incidencerate','birthrate'], Dtrain)\n>>> np.isclose(perf(['incidencerate','birthrate'], theta0hat, theta1hat, Dvalidate),660.7346319594856,rtol=1e-3)\nTrue",
         "hidden": false,
         "locked": false,
         "points": 3
        }
       ],
       "scored": true,
       "setup": "",
       "teardown": "",
       "type": "doctest"
      }
     ]
    },
    "q4p5": {
     "name": "q4p5",
     "points": null,
     "suites": [
      {
       "cases": [
        {
         "code": ">>> np.isclose(b_ellstar,440.8047271803019,rtol=1e-3) and b_kstar==11\nTrue",
         "hidden": false,
         "locked": false,
         "points": 3
        }
       ],
       "scored": true,
       "setup": "",
       "teardown": "",
       "type": "doctest"
      }
     ]
    }
   }
  }
 },
 "nbformat": 4,
 "nbformat_minor": 2
}
